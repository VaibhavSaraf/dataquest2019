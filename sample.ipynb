{
 "cells": [
  {
   "cell_type": "code",
   "execution_count": 76,
   "metadata": {},
   "outputs": [
    {
     "name": "stdout",
     "output_type": "stream",
     "text": [
      "The autoreload extension is already loaded. To reload it, use:\n",
      "  %reload_ext autoreload\n"
     ]
    },
    {
     "data": {
      "application/javascript": [
       "IPython.notebook.set_autosave_interval(5000)"
      ]
     },
     "metadata": {},
     "output_type": "display_data"
    },
    {
     "name": "stdout",
     "output_type": "stream",
     "text": [
      "Autosaving every 5 seconds\n"
     ]
    }
   ],
   "source": [
    "%load_ext autoreload\n",
    "%autoreload 2\n",
    "%autosave 5\n",
    "\n",
    "%matplotlib inline"
   ]
  },
  {
   "cell_type": "markdown",
   "metadata": {},
   "source": [
    "#  Import modules"
   ]
  },
  {
   "cell_type": "code",
   "execution_count": 77,
   "metadata": {},
   "outputs": [],
   "source": [
    "from fastai.imports import *\n",
    "from fastai.structured import *\n",
    "\n",
    "from pandas_summary import DataFrameSummary\n",
    "from sklearn.ensemble import RandomForestRegressor, RandomForestClassifier , ExtraTreesRegressor\n",
    "from IPython.display import display\n",
    "\n",
    "from sklearn import metrics\n",
    "\n",
    "from sklearn.preprocessing import LabelEncoder,OneHotEncoder\n",
    "from sklearn import linear_model\n",
    "from sklearn.metrics import mean_squared_error, r2_score\n",
    "import seaborn as sns"
   ]
  },
  {
   "cell_type": "markdown",
   "metadata": {},
   "source": [
    "# Data importing "
   ]
  },
  {
   "cell_type": "code",
   "execution_count": 78,
   "metadata": {},
   "outputs": [],
   "source": [
    "PATH = './data/'"
   ]
  },
  {
   "cell_type": "code",
   "execution_count": 79,
   "metadata": {},
   "outputs": [
    {
     "name": "stdout",
     "output_type": "stream",
     "text": [
      "sample_submission.csv  Test.csv  Train.csv\r\n"
     ]
    }
   ],
   "source": [
    "!ls {PATH}"
   ]
  },
  {
   "cell_type": "code",
   "execution_count": 80,
   "metadata": {},
   "outputs": [],
   "source": [
    "df_raw = pd.read_csv(f'{PATH}Train.csv',low_memory = False, parse_dates = ['date_time'])"
   ]
  },
  {
   "cell_type": "code",
   "execution_count": 81,
   "metadata": {},
   "outputs": [
    {
     "data": {
      "text/html": [
       "<div>\n",
       "<style scoped>\n",
       "    .dataframe tbody tr th:only-of-type {\n",
       "        vertical-align: middle;\n",
       "    }\n",
       "\n",
       "    .dataframe tbody tr th {\n",
       "        vertical-align: top;\n",
       "    }\n",
       "\n",
       "    .dataframe thead th {\n",
       "        text-align: right;\n",
       "    }\n",
       "</style>\n",
       "<table border=\"1\" class=\"dataframe\">\n",
       "  <thead>\n",
       "    <tr style=\"text-align: right;\">\n",
       "      <th></th>\n",
       "      <th>0</th>\n",
       "      <th>1</th>\n",
       "      <th>2</th>\n",
       "      <th>3</th>\n",
       "      <th>4</th>\n",
       "    </tr>\n",
       "  </thead>\n",
       "  <tbody>\n",
       "    <tr>\n",
       "      <th>date_time</th>\n",
       "      <td>2012-10-02 09:00:00</td>\n",
       "      <td>2012-10-02 10:00:00</td>\n",
       "      <td>2012-10-02 11:00:00</td>\n",
       "      <td>2012-10-02 12:00:00</td>\n",
       "      <td>2012-10-02 13:00:00</td>\n",
       "    </tr>\n",
       "    <tr>\n",
       "      <th>is_holiday</th>\n",
       "      <td>None</td>\n",
       "      <td>None</td>\n",
       "      <td>None</td>\n",
       "      <td>None</td>\n",
       "      <td>None</td>\n",
       "    </tr>\n",
       "    <tr>\n",
       "      <th>air_pollution_index</th>\n",
       "      <td>121</td>\n",
       "      <td>178</td>\n",
       "      <td>113</td>\n",
       "      <td>20</td>\n",
       "      <td>281</td>\n",
       "    </tr>\n",
       "    <tr>\n",
       "      <th>humidity</th>\n",
       "      <td>89</td>\n",
       "      <td>67</td>\n",
       "      <td>66</td>\n",
       "      <td>66</td>\n",
       "      <td>65</td>\n",
       "    </tr>\n",
       "    <tr>\n",
       "      <th>wind_speed</th>\n",
       "      <td>2</td>\n",
       "      <td>3</td>\n",
       "      <td>3</td>\n",
       "      <td>3</td>\n",
       "      <td>3</td>\n",
       "    </tr>\n",
       "    <tr>\n",
       "      <th>wind_direction</th>\n",
       "      <td>329</td>\n",
       "      <td>330</td>\n",
       "      <td>329</td>\n",
       "      <td>329</td>\n",
       "      <td>329</td>\n",
       "    </tr>\n",
       "    <tr>\n",
       "      <th>visibility_in_miles</th>\n",
       "      <td>1</td>\n",
       "      <td>1</td>\n",
       "      <td>2</td>\n",
       "      <td>5</td>\n",
       "      <td>7</td>\n",
       "    </tr>\n",
       "    <tr>\n",
       "      <th>dew_point</th>\n",
       "      <td>1</td>\n",
       "      <td>1</td>\n",
       "      <td>2</td>\n",
       "      <td>5</td>\n",
       "      <td>7</td>\n",
       "    </tr>\n",
       "    <tr>\n",
       "      <th>temperature</th>\n",
       "      <td>288.28</td>\n",
       "      <td>289.36</td>\n",
       "      <td>289.58</td>\n",
       "      <td>290.13</td>\n",
       "      <td>291.14</td>\n",
       "    </tr>\n",
       "    <tr>\n",
       "      <th>rain_p_h</th>\n",
       "      <td>0</td>\n",
       "      <td>0</td>\n",
       "      <td>0</td>\n",
       "      <td>0</td>\n",
       "      <td>0</td>\n",
       "    </tr>\n",
       "    <tr>\n",
       "      <th>snow_p_h</th>\n",
       "      <td>0</td>\n",
       "      <td>0</td>\n",
       "      <td>0</td>\n",
       "      <td>0</td>\n",
       "      <td>0</td>\n",
       "    </tr>\n",
       "    <tr>\n",
       "      <th>clouds_all</th>\n",
       "      <td>40</td>\n",
       "      <td>75</td>\n",
       "      <td>90</td>\n",
       "      <td>90</td>\n",
       "      <td>75</td>\n",
       "    </tr>\n",
       "    <tr>\n",
       "      <th>weather_type</th>\n",
       "      <td>Clouds</td>\n",
       "      <td>Clouds</td>\n",
       "      <td>Clouds</td>\n",
       "      <td>Clouds</td>\n",
       "      <td>Clouds</td>\n",
       "    </tr>\n",
       "    <tr>\n",
       "      <th>weather_description</th>\n",
       "      <td>scattered clouds</td>\n",
       "      <td>broken clouds</td>\n",
       "      <td>overcast clouds</td>\n",
       "      <td>overcast clouds</td>\n",
       "      <td>broken clouds</td>\n",
       "    </tr>\n",
       "    <tr>\n",
       "      <th>traffic_volume</th>\n",
       "      <td>5545</td>\n",
       "      <td>4516</td>\n",
       "      <td>4767</td>\n",
       "      <td>5026</td>\n",
       "      <td>4918</td>\n",
       "    </tr>\n",
       "  </tbody>\n",
       "</table>\n",
       "</div>"
      ],
      "text/plain": [
       "                                       0                    1  \\\n",
       "date_time            2012-10-02 09:00:00  2012-10-02 10:00:00   \n",
       "is_holiday                          None                 None   \n",
       "air_pollution_index                  121                  178   \n",
       "humidity                              89                   67   \n",
       "wind_speed                             2                    3   \n",
       "wind_direction                       329                  330   \n",
       "visibility_in_miles                    1                    1   \n",
       "dew_point                              1                    1   \n",
       "temperature                       288.28               289.36   \n",
       "rain_p_h                               0                    0   \n",
       "snow_p_h                               0                    0   \n",
       "clouds_all                            40                   75   \n",
       "weather_type                      Clouds               Clouds   \n",
       "weather_description     scattered clouds        broken clouds   \n",
       "traffic_volume                      5545                 4516   \n",
       "\n",
       "                                       2                    3  \\\n",
       "date_time            2012-10-02 11:00:00  2012-10-02 12:00:00   \n",
       "is_holiday                          None                 None   \n",
       "air_pollution_index                  113                   20   \n",
       "humidity                              66                   66   \n",
       "wind_speed                             3                    3   \n",
       "wind_direction                       329                  329   \n",
       "visibility_in_miles                    2                    5   \n",
       "dew_point                              2                    5   \n",
       "temperature                       289.58               290.13   \n",
       "rain_p_h                               0                    0   \n",
       "snow_p_h                               0                    0   \n",
       "clouds_all                            90                   90   \n",
       "weather_type                      Clouds               Clouds   \n",
       "weather_description      overcast clouds      overcast clouds   \n",
       "traffic_volume                      4767                 5026   \n",
       "\n",
       "                                       4  \n",
       "date_time            2012-10-02 13:00:00  \n",
       "is_holiday                          None  \n",
       "air_pollution_index                  281  \n",
       "humidity                              65  \n",
       "wind_speed                             3  \n",
       "wind_direction                       329  \n",
       "visibility_in_miles                    7  \n",
       "dew_point                              7  \n",
       "temperature                       291.14  \n",
       "rain_p_h                               0  \n",
       "snow_p_h                               0  \n",
       "clouds_all                            75  \n",
       "weather_type                      Clouds  \n",
       "weather_description        broken clouds  \n",
       "traffic_volume                      4918  "
      ]
     },
     "execution_count": 81,
     "metadata": {},
     "output_type": "execute_result"
    }
   ],
   "source": [
    "df_raw.head().T"
   ]
  },
  {
   "cell_type": "markdown",
   "metadata": {},
   "source": [
    "# Data Preprocessing "
   ]
  },
  {
   "cell_type": "code",
   "execution_count": 82,
   "metadata": {},
   "outputs": [],
   "source": [
    "def display_all(df):\n",
    "    with pd.option_context(\"display.max_rows\", 1000, \"display.max_columns\", 1000): \n",
    "        display(df)"
   ]
  },
  {
   "cell_type": "code",
   "execution_count": 83,
   "metadata": {},
   "outputs": [],
   "source": [
    "df= df_raw.drop_duplicates(['date_time'])"
   ]
  },
  {
   "cell_type": "code",
   "execution_count": 84,
   "metadata": {},
   "outputs": [],
   "source": [
    "df_raw.drop(['air_pollution_index'], axis=1, inplace=True)\n",
    "df_raw.drop(['wind_direction'], axis=1, inplace=True)\n",
    "df_raw.drop(['dew_point'], axis=1, inplace=True)"
   ]
  },
  {
   "cell_type": "markdown",
   "metadata": {},
   "source": [
    "# Data Preprocessing Function\n"
   ]
  },
  {
   "cell_type": "code",
   "execution_count": 85,
   "metadata": {},
   "outputs": [],
   "source": [
    "def preprocessing_data(d_frame):\n",
    "    dframe = d_frame.copy()\n",
    "    print(type(dframe))\n",
    "    dframe['hour'] = getattr(dframe.date_time.dt,'hour')\n",
    "    \n",
    "    dframe['dates'] = dframe['date_time'].dt.date\n",
    "    date_of_holiday = dframe.dates[dframe.is_holiday != 'None']\n",
    "    holiday_type = dframe.is_holiday[dframe.is_holiday != 'None']\n",
    "    mapping = {i:j for i,j in zip(date_of_holiday,holiday_type)}\n",
    "    for x in mapping:\n",
    "        dframe.loc[dframe.dates == x , 'is_holiday'] = mapping[x]\n",
    "    dframe.drop(columns='dates',inplace=True)\n",
    "    add_datepart(dframe,'date_time')\n",
    "    \n",
    "    return dframe"
   ]
  },
  {
   "cell_type": "code",
   "execution_count": 86,
   "metadata": {},
   "outputs": [
    {
     "name": "stdout",
     "output_type": "stream",
     "text": [
      "<class 'pandas.core.frame.DataFrame'>\n"
     ]
    }
   ],
   "source": [
    "df = preprocessing_data(df_raw)"
   ]
  },
  {
   "cell_type": "code",
   "execution_count": 87,
   "metadata": {},
   "outputs": [],
   "source": [
    "train_cats(df)"
   ]
  },
  {
   "cell_type": "markdown",
   "metadata": {},
   "source": [
    "# Removing outliers "
   ]
  },
  {
   "cell_type": "code",
   "execution_count": 88,
   "metadata": {},
   "outputs": [],
   "source": [
    "for index,row in df.iterrows() :\n",
    "    if(row['temperature']==0):\n",
    "        df.drop(index,inplace=True)\n",
    "    if(row['rain_p_h']>60):\n",
    "        df.drop(index,inplace=True)\n",
    "    if(row['snow_p_h']>0.2):\n",
    "        df.drop(index,inplace=True)"
   ]
  },
  {
   "cell_type": "code",
   "execution_count": 89,
   "metadata": {},
   "outputs": [],
   "source": [
    "df['hourtotraffic'] = 1.5\n",
    "df.loc[(df.hour >= 22) & (df.hour <= 5), 'hourtotraffic'] = 0\n",
    "df.loc[(df.hour >= 19) & (df.hour <= 22) , 'hourtotraffic'] = 2\n",
    "df.loc[(df.hour >= 14) & (df.hour  <=19) , 'hourtotraffic'] = 8\n",
    "df.loc[(df.hour>=6) & (df.hour <= 9), 'hourtotraffic'] = 1"
   ]
  },
  {
   "cell_type": "code",
   "execution_count": 90,
   "metadata": {},
   "outputs": [],
   "source": [
    "df['holidaypriority'] = 7\n",
    "df.loc[(df.is_holiday == 'None'), 'holidaypriority'] = 50\n",
    "df.loc[(df.is_holiday.isin(['Columbus Day','Veterans Day','Washingtons Birthday','State Fair'])) , 'holidaypriority'] = 10\n",
    "df.loc[(df.is_holiday.isin(['Thanksgiving Day','Christmas Day','New Years Day','Independence Day','Labor Day'])) , 'holidaypriority'] = 5\n",
    "df.loc[(df.is_holiday.isin(['Memorial Day','Martin Luther King Day'])), 'holidaypriority'] = 4"
   ]
  },
  {
   "cell_type": "markdown",
   "metadata": {},
   "source": [
    "# Testing "
   ]
  },
  {
   "cell_type": "code",
   "execution_count": 91,
   "metadata": {},
   "outputs": [],
   "source": [
    "dfs,y,nas = proc_df(df,'traffic_volume')"
   ]
  },
  {
   "cell_type": "code",
   "execution_count": 92,
   "metadata": {},
   "outputs": [
    {
     "data": {
      "text/plain": [
       "((21719, 26), (21719,), (12000, 26))"
      ]
     },
     "execution_count": 92,
     "metadata": {},
     "output_type": "execute_result"
    }
   ],
   "source": [
    "def split_vals(a,n): return a[:n].copy(), a[n:].copy()\n",
    "\n",
    "n_valid = 12000  # same as Kaggle's test set size\n",
    "n_trn = len(dfs)-n_valid\n",
    "\n",
    "X_train, X_valid = split_vals(dfs, n_trn)\n",
    "y_train, y_valid = split_vals(y, n_trn)\n",
    "\n",
    "X_train.shape, y_train.shape, X_valid.shape"
   ]
  },
  {
   "cell_type": "markdown",
   "metadata": {},
   "source": [
    "# Random Forest"
   ]
  },
  {
   "cell_type": "code",
   "execution_count": 93,
   "metadata": {},
   "outputs": [],
   "source": [
    "def rmse(x,y): return math.sqrt(((x-y)**2).mean())\n",
    "\n",
    "def print_score(m):\n",
    "    res = [rmse(m.predict(X_train), y_train), rmse(m.predict(X_valid), y_valid),\n",
    "                m.score(X_train, y_train), m.score(X_valid, y_valid)]\n",
    "    if hasattr(m, 'oob_score_'): res.append(m.oob_score_)\n",
    "    print(res)"
   ]
  },
  {
   "cell_type": "code",
   "execution_count": 127,
   "metadata": {},
   "outputs": [
    {
     "name": "stdout",
     "output_type": "stream",
     "text": [
      "[197.22239420132144, 451.81932208543583, 0.9903649754493682, 0.946780370302373]\n"
     ]
    }
   ],
   "source": [
    "m = RandomForestRegressor(n_estimators=1000, min_samples_leaf=3, max_features=0.5, n_jobs=-1,random_state=18)\n",
    "m.fit(X_train, y_train)\n",
    "print_score(m)"
   ]
  },
  {
   "cell_type": "markdown",
   "metadata": {},
   "source": [
    "# Testing the model "
   ]
  },
  {
   "cell_type": "code",
   "execution_count": 113,
   "metadata": {},
   "outputs": [],
   "source": [
    "valid_raw = pd.read_csv(f'{PATH}Test.csv',low_memory = False,parse_dates=['date_time'])"
   ]
  },
  {
   "cell_type": "code",
   "execution_count": 114,
   "metadata": {},
   "outputs": [],
   "source": [
    "date_time = valid_raw['date_time']"
   ]
  },
  {
   "cell_type": "code",
   "execution_count": 115,
   "metadata": {},
   "outputs": [
    {
     "name": "stdout",
     "output_type": "stream",
     "text": [
      "<class 'pandas.core.frame.DataFrame'>\n"
     ]
    }
   ],
   "source": [
    "valid = preprocessing_data(valid_raw)"
   ]
  },
  {
   "cell_type": "code",
   "execution_count": 116,
   "metadata": {},
   "outputs": [],
   "source": [
    "valid.drop(['air_pollution_index'], axis=1, inplace=True)\n",
    "valid.drop(['wind_direction'], axis=1, inplace=True)\n",
    "valid.drop(['dew_point'], axis=1, inplace=True)"
   ]
  },
  {
   "cell_type": "code",
   "execution_count": 117,
   "metadata": {},
   "outputs": [],
   "source": [
    "for index,row in valid.iterrows() :\n",
    "    if(row['temperature']==0):\n",
    "        valid.drop(index,inplace=True)\n",
    "    if(row['rain_p_h']>60):\n",
    "        valid.drop(index,inplace=True)\n",
    "    if(row['snow_p_h']>0.2):\n",
    "        valid.drop(index,inplace=True)"
   ]
  },
  {
   "cell_type": "code",
   "execution_count": 118,
   "metadata": {},
   "outputs": [],
   "source": [
    "valid['hourtotraffic'] = 1.5\n",
    "valid.loc[(valid.hour >= 22) & (valid.hour <= 5), 'hourtotraffic'] = 0\n",
    "valid.loc[(valid.hour >= 19) & (valid.hour <= 22) , 'hourtotraffic'] = 2\n",
    "valid.loc[(valid.hour >= 14) & (valid.hour  <=19) , 'hourtotraffic'] = 8\n",
    "valid.loc[(valid.hour>=6) & (valid.hour <= 9), 'hourtotraffic'] = 1"
   ]
  },
  {
   "cell_type": "code",
   "execution_count": 119,
   "metadata": {},
   "outputs": [],
   "source": [
    "valid['holidaypriority'] = 7\n",
    "valid.loc[(valid.is_holiday == 'None'), 'holidaypriority'] = 50\n",
    "valid.loc[(valid.is_holiday.isin(['Columbus Day','Veterans Day','Washingtons Birthday','State Fair'])) , 'holidaypriority'] = 10\n",
    "valid.loc[(valid.is_holiday.isin(['Thanksgiving Day','Christmas Day','New Years Day','Independence Day','Labor Day'])) , 'holidaypriority'] = 5\n",
    "valid.loc[(valid.is_holiday.isin(['Memorial Day','Martin Luther King Day'])), 'holidaypriority'] = 4\n"
   ]
  },
  {
   "cell_type": "code",
   "execution_count": null,
   "metadata": {},
   "outputs": [],
   "source": []
  },
  {
   "cell_type": "code",
   "execution_count": null,
   "metadata": {},
   "outputs": [],
   "source": []
  },
  {
   "cell_type": "code",
   "execution_count": 120,
   "metadata": {},
   "outputs": [],
   "source": [
    "apply_cats(valid,df)"
   ]
  },
  {
   "cell_type": "code",
   "execution_count": 121,
   "metadata": {},
   "outputs": [],
   "source": [
    "check,_,_ = proc_df(valid)"
   ]
  },
  {
   "cell_type": "code",
   "execution_count": 128,
   "metadata": {},
   "outputs": [],
   "source": [
    "answer = m.predict(check)"
   ]
  },
  {
   "cell_type": "code",
   "execution_count": 129,
   "metadata": {},
   "outputs": [
    {
     "data": {
      "text/plain": [
       "array([ 649.15797,  648.42789,  654.10919, ..., 2465.11829, 1791.06603, 1257.56892])"
      ]
     },
     "execution_count": 129,
     "metadata": {},
     "output_type": "execute_result"
    }
   ],
   "source": [
    "answer"
   ]
  },
  {
   "cell_type": "code",
   "execution_count": 130,
   "metadata": {},
   "outputs": [],
   "source": [
    "dict = {\n",
    "    'date_time':date_time,\n",
    "    'traffic_volume':answer\n",
    "}"
   ]
  },
  {
   "cell_type": "code",
   "execution_count": 131,
   "metadata": {},
   "outputs": [],
   "source": [
    "answer_final2 = pd.DataFrame(dict)"
   ]
  },
  {
   "cell_type": "code",
   "execution_count": 132,
   "metadata": {},
   "outputs": [],
   "source": [
    "answer_final2.to_csv('final2.csv',header=True,index=False)"
   ]
  },
  {
   "cell_type": "code",
   "execution_count": null,
   "metadata": {},
   "outputs": [],
   "source": []
  }
 ],
 "metadata": {
  "kernelspec": {
   "display_name": "Python 3",
   "language": "python",
   "name": "python3"
  },
  "language_info": {
   "codemirror_mode": {
    "name": "ipython",
    "version": 3
   },
   "file_extension": ".py",
   "mimetype": "text/x-python",
   "name": "python",
   "nbconvert_exporter": "python",
   "pygments_lexer": "ipython3",
   "version": "3.6.8"
  }
 },
 "nbformat": 4,
 "nbformat_minor": 2
}
