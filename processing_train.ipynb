{
 "cells": [
  {
   "cell_type": "code",
   "execution_count": 2,
   "metadata": {},
   "outputs": [],
   "source": [
    "%reload_ext autoreload\n",
    "%autoreload 2\n",
    "%matplotlib inline"
   ]
  },
  {
   "cell_type": "code",
   "execution_count": 3,
   "metadata": {},
   "outputs": [],
   "source": [
    "import numpy as np\n",
    "import pandas as pd\n",
    "import matplotlib.pyplot as plt\n",
    "import fastai\n",
    "\n",
    "from sklearn import metrics\n",
    "from fastai.imports import *\n",
    "from fastai.structured import *\n",
    "\n",
    "from pandas_summary import DataFrameSummary\n",
    "from sklearn.ensemble import RandomForestRegressor , RandomForestClassifier\n",
    "import re\n",
    "import seaborn as sns\n",
    "\n",
    "from sklearn import metrics\n",
    "import io\n",
    "import xgboost as xgb\n"
   ]
  },
  {
   "cell_type": "code",
   "execution_count": 4,
   "metadata": {},
   "outputs": [
    {
     "name": "stdout",
     "output_type": "stream",
     "text": [
      "sample_submission.csv  test.csv  train.csv\r\n"
     ]
    }
   ],
   "source": [
    "PATH = './data/'\n",
    "!ls {PATH}"
   ]
  },
  {
   "cell_type": "code",
   "execution_count": 5,
   "metadata": {},
   "outputs": [],
   "source": [
    "train_raw = pd.read_csv(f'{PATH}train.csv',low_memory=False,parse_dates=['opened_at'])\n",
    "test_raw = pd.read_csv(f'{PATH}test.csv',low_memory=False,parse_dates=['opened_at'])"
   ]
  },
  {
   "cell_type": "code",
   "execution_count": 6,
   "metadata": {},
   "outputs": [],
   "source": [
    "def extracting_num(df_raw):\n",
    "  df = df_raw.copy()\n",
    "  df['opened_by'] = df['opened_by'].str.split(expand=True)[2]\n",
    "  df['location'] = df['location'].str.split(expand=True)[1]\n",
    "  df['category'] = df['category'].str.split(expand=True)[1]\n",
    "  df['subcategory'] = df['subcategory'].str.split(expand=True)[1]\n",
    "  df['impact'] = df['impact'].str.split(expand=True)[0]\n",
    "  df['urgency'] = df['urgency'].str.split(expand=True)[0]\n",
    "  df['priority'] = df['priority'].str.split(expand=True)[0]\n",
    "  df['assigned_to'] = df['assigned_to'].str.split(expand=True)[1]\n",
    "  return df"
   ]
  },
  {
   "cell_type": "code",
   "execution_count": 7,
   "metadata": {},
   "outputs": [],
   "source": [
    "train_raw = extracting_num(train_raw)"
   ]
  },
  {
   "cell_type": "code",
   "execution_count": 19,
   "metadata": {},
   "outputs": [
    {
     "data": {
      "text/plain": [
       "2    19117\n",
       "3      557\n",
       "1      326\n",
       "Name: urgency, dtype: int64"
      ]
     },
     "execution_count": 19,
     "metadata": {},
     "output_type": "execute_result"
    }
   ],
   "source": [
    "train_raw['urgency'].value_counts()"
   ]
  },
  {
   "cell_type": "code",
   "execution_count": 25,
   "metadata": {},
   "outputs": [],
   "source": [
    "for index,row in train_raw.iterrows() :\n",
    "    if(row['target_days']>10):\n",
    "        train_raw.drop(index,inplace=True)\n",
    "for index,row in train_raw.iterrows() :\n",
    "    if(row['target_days']<=4):\n",
    "        train_raw.drop(index,inplace=True)"
   ]
  },
  {
   "cell_type": "code",
   "execution_count": 26,
   "metadata": {},
   "outputs": [
    {
     "data": {
      "text/plain": [
       "False    12269\n",
       "True       861\n",
       "Name: knowledge, dtype: int64"
      ]
     },
     "execution_count": 26,
     "metadata": {},
     "output_type": "execute_result"
    }
   ],
   "source": [
    "train_raw['knowledge'].value_counts()"
   ]
  },
  {
   "cell_type": "code",
   "execution_count": 27,
   "metadata": {},
   "outputs": [
    {
     "data": {
      "text/plain": [
       "False    4918\n",
       "Name: knowledge, dtype: int64"
      ]
     },
     "execution_count": 27,
     "metadata": {},
     "output_type": "execute_result"
    }
   ],
   "source": [
    "test_raw['knowledge'].value_counts()"
   ]
  },
  {
   "cell_type": "code",
   "execution_count": 22,
   "metadata": {},
   "outputs": [
    {
     "data": {
      "text/plain": [
       "2 - Medium    4732\n",
       "3 - Low        127\n",
       "1 - High        59\n",
       "Name: impact, dtype: int64"
      ]
     },
     "execution_count": 22,
     "metadata": {},
     "output_type": "execute_result"
    }
   ],
   "source": [
    "test_raw['impact'].value_counts()"
   ]
  },
  {
   "cell_type": "code",
   "execution_count": 10,
   "metadata": {},
   "outputs": [],
   "source": []
  },
  {
   "cell_type": "code",
   "execution_count": 11,
   "metadata": {},
   "outputs": [],
   "source": []
  },
  {
   "cell_type": "code",
   "execution_count": 12,
   "metadata": {},
   "outputs": [],
   "source": []
  },
  {
   "cell_type": "code",
   "execution_count": 13,
   "metadata": {},
   "outputs": [
    {
     "data": {
      "text/plain": [
       "13     878\n",
       "17     612\n",
       "94     364\n",
       "33     362\n",
       "194    286\n",
       "      ... \n",
       "93       1\n",
       "136      1\n",
       "48       1\n",
       "5        1\n",
       "40       1\n",
       "Name: assigned_to, Length: 135, dtype: int64"
      ]
     },
     "execution_count": 13,
     "metadata": {},
     "output_type": "execute_result"
    }
   ],
   "source": []
  },
  {
   "cell_type": "code",
   "execution_count": 14,
   "metadata": {},
   "outputs": [
    {
     "data": {
      "text/plain": [
       "17     228\n",
       "40      40\n",
       "108     39\n",
       "131     38\n",
       "24      38\n",
       "8       30\n",
       "397     29\n",
       "386     26\n",
       "55      22\n",
       "62      20\n",
       "180     17\n",
       "301     16\n",
       "305     15\n",
       "221     15\n",
       "500     14\n",
       "58      13\n",
       "239     12\n",
       "501     10\n",
       "240      9\n",
       "390      8\n",
       "94       5\n",
       "444      5\n",
       "512      4\n",
       "443      3\n",
       "536      3\n",
       "433      3\n",
       "47       3\n",
       "79       3\n",
       "412      2\n",
       "381      2\n",
       "128      2\n",
       "20       2\n",
       "463      2\n",
       "10       2\n",
       "168      2\n",
       "257      2\n",
       "124      2\n",
       "255      1\n",
       "520      1\n",
       "109      1\n",
       "325      1\n",
       "59       1\n",
       "247      1\n",
       "193      1\n",
       "517      1\n",
       "354      1\n",
       "226      1\n",
       "174      1\n",
       "320      1\n",
       "503      1\n",
       "382      1\n",
       "44       1\n",
       "70       1\n",
       "Name: opened_by, dtype: int64"
      ]
     },
     "execution_count": 14,
     "metadata": {},
     "output_type": "execute_result"
    }
   ],
   "source": []
  },
  {
   "cell_type": "code",
   "execution_count": 15,
   "metadata": {},
   "outputs": [
    {
     "data": {
      "text/plain": [
       "204    151\n",
       "161    110\n",
       "143     97\n",
       "93      67\n",
       "108     60\n",
       "      ... \n",
       "236      1\n",
       "44       1\n",
       "107      1\n",
       "197      1\n",
       "160      1\n",
       "Name: location, Length: 71, dtype: int64"
      ]
     },
     "execution_count": 15,
     "metadata": {},
     "output_type": "execute_result"
    }
   ],
   "source": []
  },
  {
   "cell_type": "code",
   "execution_count": 18,
   "metadata": {},
   "outputs": [
    {
     "data": {
      "text/plain": [
       "26    105\n",
       "42    104\n",
       "53     93\n",
       "46     73\n",
       "23     38\n",
       "9      35\n",
       "37     35\n",
       "57     34\n",
       "61     30\n",
       "32     27\n",
       "20     24\n",
       "24     23\n",
       "40     18\n",
       "51     17\n",
       "44     15\n",
       "35     11\n",
       "13      8\n",
       "19      8\n",
       "43      6\n",
       "34      5\n",
       "28      4\n",
       "8       3\n",
       "41      2\n",
       "7       2\n",
       "38      2\n",
       "45      1\n",
       "4       1\n",
       "56      1\n",
       "30      1\n",
       "47      1\n",
       "22      1\n",
       "17      1\n",
       "25      1\n",
       "Name: category, dtype: int64"
      ]
     },
     "execution_count": 18,
     "metadata": {},
     "output_type": "execute_result"
    }
   ],
   "source": []
  },
  {
   "cell_type": "code",
   "execution_count": 17,
   "metadata": {},
   "outputs": [
    {
     "data": {
      "text/plain": [
       "174    231\n",
       "223     99\n",
       "175     56\n",
       "275     29\n",
       "164     27\n",
       "      ... \n",
       "189      1\n",
       "153      1\n",
       "151      1\n",
       "90       1\n",
       "243      1\n",
       "Name: subcategory, Length: 88, dtype: int64"
      ]
     },
     "execution_count": 17,
     "metadata": {},
     "output_type": "execute_result"
    }
   ],
   "source": []
  },
  {
   "cell_type": "code",
   "execution_count": null,
   "metadata": {},
   "outputs": [],
   "source": []
  }
 ],
 "metadata": {
  "kernelspec": {
   "display_name": "Python 3",
   "language": "python",
   "name": "python3"
  },
  "language_info": {
   "codemirror_mode": {
    "name": "ipython",
    "version": 3
   },
   "file_extension": ".py",
   "mimetype": "text/x-python",
   "name": "python",
   "nbconvert_exporter": "python",
   "pygments_lexer": "ipython3",
   "version": "3.6.9"
  }
 },
 "nbformat": 4,
 "nbformat_minor": 2
}
