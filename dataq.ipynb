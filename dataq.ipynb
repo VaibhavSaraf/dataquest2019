{
 "cells": [
  {
   "cell_type": "markdown",
   "metadata": {
    "colab_type": "text",
    "id": "WjaQf4UkEW4z"
   },
   "source": [
    "# DATAQUEST "
   ]
  },
  {
   "cell_type": "code",
   "execution_count": 1,
   "metadata": {
    "colab": {},
    "colab_type": "code",
    "id": "PUKJEgtYEW40"
   },
   "outputs": [],
   "source": [
    "%reload_ext autoreload\n",
    "%autoreload 2\n",
    "\n",
    "%matplotlib inline"
   ]
  },
  {
   "cell_type": "markdown",
   "metadata": {
    "colab_type": "text",
    "id": "oONtvTGAEW44"
   },
   "source": [
    "## Importing libraries "
   ]
  },
  {
   "cell_type": "code",
   "execution_count": 2,
   "metadata": {
    "colab": {},
    "colab_type": "code",
    "id": "E0KsM6lOEW44"
   },
   "outputs": [],
   "source": [
    "from fastai.imports import *\n",
    "from fastai.structured import *\n",
    "\n",
    "from pandas_summary import DataFrameSummary\n",
    "from sklearn.ensemble import RandomForestRegressor , RandomForestClassifier\n",
    "import re\n",
    "import seaborn as sns\n",
    "\n",
    "from sklearn import metrics\n",
    "import io"
   ]
  },
  {
   "cell_type": "markdown",
   "metadata": {
    "colab_type": "text",
    "id": "sqezowHhhDRm"
   },
   "source": [
    "## Getting the data in Google Colab"
   ]
  },
  {
   "cell_type": "code",
   "execution_count": 3,
   "metadata": {
    "colab": {},
    "colab_type": "code",
    "id": "8q-vMLcEhG-U"
   },
   "outputs": [
    {
     "name": "stdout",
     "output_type": "stream",
     "text": [
      "sample_submission.csv  test.csv  train.csv\r\n"
     ]
    }
   ],
   "source": [
    "PATH = './data/'\n",
    "!ls {PATH}"
   ]
  },
  {
   "cell_type": "code",
   "execution_count": 4,
   "metadata": {
    "colab": {
     "base_uri": "https://localhost:8080/",
     "height": 108,
     "resources": {
      "http://localhost:8080/nbextensions/google.colab/files.js": {
       "data": "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",
       "headers": [
        [
         "content-type",
         "application/javascript"
        ]
       ],
       "ok": true,
       "status": 200,
       "status_text": ""
      }
     }
    },
    "colab_type": "code",
    "id": "aw7xhxGShG6C",
    "outputId": "20feda1a-1fa8-469c-9ef6-dec59eefbff5"
   },
   "outputs": [],
   "source": [
    "train_raw = pd.read_csv(f'{PATH}train.csv',low_memory=False,parse_dates=['opened_at'])"
   ]
  },
  {
   "cell_type": "code",
   "execution_count": 5,
   "metadata": {
    "colab": {
     "base_uri": "https://localhost:8080/",
     "height": 51
    },
    "colab_type": "code",
    "id": "Z6ZbTOyfh8jl",
    "outputId": "abeaaaf2-6af0-41bb-9eeb-679a9c8a4740"
   },
   "outputs": [],
   "source": [
    "test_raw = pd.read_csv(f'{PATH}test.csv',low_memory=False,parse_dates=['opened_at'])"
   ]
  },
  {
   "cell_type": "code",
   "execution_count": null,
   "metadata": {
    "colab": {},
    "colab_type": "code",
    "id": "aIoojkDjh8fD"
   },
   "outputs": [],
   "source": []
  },
  {
   "cell_type": "code",
   "execution_count": null,
   "metadata": {
    "colab": {},
    "colab_type": "code",
    "id": "9ojryIkrlzuR"
   },
   "outputs": [],
   "source": []
  },
  {
   "cell_type": "markdown",
   "metadata": {
    "colab_type": "text",
    "id": "PmkUJqioEW47"
   },
   "source": [
    "## Setting some lists to measure progress "
   ]
  },
  {
   "cell_type": "code",
   "execution_count": 6,
   "metadata": {
    "colab": {},
    "colab_type": "code",
    "id": "w0hNBkRPEW48"
   },
   "outputs": [],
   "source": [
    "train_map = []\n",
    "test_map = []"
   ]
  },
  {
   "cell_type": "markdown",
   "metadata": {
    "colab_type": "text",
    "id": "beL18ylBEW5K"
   },
   "source": [
    "##  Fuctions"
   ]
  },
  {
   "cell_type": "code",
   "execution_count": 7,
   "metadata": {
    "colab": {},
    "colab_type": "code",
    "id": "4AKEa-CNEW5L"
   },
   "outputs": [],
   "source": [
    "def display_all(df):\n",
    "    with pd.option_context(\"display.max_rows\", 1000, \"display.max_columns\", 1000): \n",
    "        display(df)"
   ]
  },
  {
   "cell_type": "code",
   "execution_count": 8,
   "metadata": {
    "colab": {},
    "colab_type": "code",
    "id": "AzLR7440EW5O"
   },
   "outputs": [],
   "source": [
    "def print_score(m):\n",
    "    print(metrics.mean_absolute_error(m.predict(X_train),y_train),metrics.mean_absolute_error(m.predict(X_valid),y_valid))"
   ]
  },
  {
   "cell_type": "code",
   "execution_count": 9,
   "metadata": {
    "colab": {},
    "colab_type": "code",
    "id": "m23HFrooEW5R"
   },
   "outputs": [],
   "source": [
    "def put_in_metrics(n):\n",
    "    train_map.append(metrics.mean_absolute_error(n.predict(X_train),y_train))\n",
    "    test_map.append(metrics.mean_absolute_error(n.predict(X_valid),y_valid))"
   ]
  },
  {
   "cell_type": "code",
   "execution_count": 10,
   "metadata": {
    "colab": {},
    "colab_type": "code",
    "id": "ADJYQYmuklYm"
   },
   "outputs": [],
   "source": [
    "def split_vals(a,n): return a[:n].copy() , a[n:].copy()"
   ]
  },
  {
   "cell_type": "markdown",
   "metadata": {
    "colab_type": "text",
    "id": "t72_GrqvEW5U"
   },
   "source": [
    "## EDA (DATA PREPROCESSING) "
   ]
  },
  {
   "cell_type": "code",
   "execution_count": 11,
   "metadata": {
    "colab": {
     "base_uri": "https://localhost:8080/",
     "height": 638
    },
    "colab_type": "code",
    "id": "i9zGeL1SEW5V",
    "outputId": "ac482175-755e-4ee9-a18e-b5bbf7cecbc3"
   },
   "outputs": [
    {
     "data": {
      "text/html": [
       "<div>\n",
       "<style scoped>\n",
       "    .dataframe tbody tr th:only-of-type {\n",
       "        vertical-align: middle;\n",
       "    }\n",
       "\n",
       "    .dataframe tbody tr th {\n",
       "        vertical-align: top;\n",
       "    }\n",
       "\n",
       "    .dataframe thead th {\n",
       "        text-align: right;\n",
       "    }\n",
       "</style>\n",
       "<table border=\"1\" class=\"dataframe\">\n",
       "  <thead>\n",
       "    <tr style=\"text-align: right;\">\n",
       "      <th></th>\n",
       "      <th>0</th>\n",
       "      <th>1</th>\n",
       "      <th>2</th>\n",
       "      <th>3</th>\n",
       "      <th>4</th>\n",
       "    </tr>\n",
       "  </thead>\n",
       "  <tbody>\n",
       "    <tr>\n",
       "      <th>Id</th>\n",
       "      <td>INC0000045</td>\n",
       "      <td>INC0000047</td>\n",
       "      <td>INC0000057</td>\n",
       "      <td>INC0000060</td>\n",
       "      <td>INC0000062</td>\n",
       "    </tr>\n",
       "    <tr>\n",
       "      <th>reassignment_count</th>\n",
       "      <td>0</td>\n",
       "      <td>0</td>\n",
       "      <td>0</td>\n",
       "      <td>0</td>\n",
       "      <td>0</td>\n",
       "    </tr>\n",
       "    <tr>\n",
       "      <th>reopen_count</th>\n",
       "      <td>0</td>\n",
       "      <td>0</td>\n",
       "      <td>0</td>\n",
       "      <td>0</td>\n",
       "      <td>0</td>\n",
       "    </tr>\n",
       "    <tr>\n",
       "      <th>update_count</th>\n",
       "      <td>0</td>\n",
       "      <td>0</td>\n",
       "      <td>0</td>\n",
       "      <td>0</td>\n",
       "      <td>0</td>\n",
       "    </tr>\n",
       "    <tr>\n",
       "      <th>made_sla</th>\n",
       "      <td>True</td>\n",
       "      <td>True</td>\n",
       "      <td>True</td>\n",
       "      <td>True</td>\n",
       "      <td>True</td>\n",
       "    </tr>\n",
       "    <tr>\n",
       "      <th>opened_by</th>\n",
       "      <td>Opened by  8</td>\n",
       "      <td>Opened by  397</td>\n",
       "      <td>Opened by  8</td>\n",
       "      <td>Opened by  180</td>\n",
       "      <td>Opened by  180</td>\n",
       "    </tr>\n",
       "    <tr>\n",
       "      <th>opened_at</th>\n",
       "      <td>2016-02-29 01:16:00</td>\n",
       "      <td>2016-02-29 04:40:00</td>\n",
       "      <td>2016-02-29 06:10:00</td>\n",
       "      <td>2016-02-29 06:38:00</td>\n",
       "      <td>2016-02-29 06:58:00</td>\n",
       "    </tr>\n",
       "    <tr>\n",
       "      <th>contact_type</th>\n",
       "      <td>Phone</td>\n",
       "      <td>Phone</td>\n",
       "      <td>Phone</td>\n",
       "      <td>Phone</td>\n",
       "      <td>Phone</td>\n",
       "    </tr>\n",
       "    <tr>\n",
       "      <th>location</th>\n",
       "      <td>Location 143</td>\n",
       "      <td>Location 165</td>\n",
       "      <td>Location 204</td>\n",
       "      <td>Location 204</td>\n",
       "      <td>Location 93</td>\n",
       "    </tr>\n",
       "    <tr>\n",
       "      <th>category</th>\n",
       "      <td>Category 55</td>\n",
       "      <td>Category 40</td>\n",
       "      <td>Category 20</td>\n",
       "      <td>Category 9</td>\n",
       "      <td>Category 53</td>\n",
       "    </tr>\n",
       "    <tr>\n",
       "      <th>subcategory</th>\n",
       "      <td>Subcategory 170</td>\n",
       "      <td>Subcategory 215</td>\n",
       "      <td>Subcategory 125</td>\n",
       "      <td>Subcategory 97</td>\n",
       "      <td>Subcategory 168</td>\n",
       "    </tr>\n",
       "    <tr>\n",
       "      <th>impact</th>\n",
       "      <td>2 - Medium</td>\n",
       "      <td>2 - Medium</td>\n",
       "      <td>2 - Medium</td>\n",
       "      <td>2 - Medium</td>\n",
       "      <td>2 - Medium</td>\n",
       "    </tr>\n",
       "    <tr>\n",
       "      <th>urgency</th>\n",
       "      <td>2 - Medium</td>\n",
       "      <td>2 - Medium</td>\n",
       "      <td>2 - Medium</td>\n",
       "      <td>2 - Medium</td>\n",
       "      <td>2 - Medium</td>\n",
       "    </tr>\n",
       "    <tr>\n",
       "      <th>priority</th>\n",
       "      <td>3 - Moderate</td>\n",
       "      <td>3 - Moderate</td>\n",
       "      <td>3 - Moderate</td>\n",
       "      <td>3 - Moderate</td>\n",
       "      <td>3 - Moderate</td>\n",
       "    </tr>\n",
       "    <tr>\n",
       "      <th>assigned_to</th>\n",
       "      <td>NaN</td>\n",
       "      <td>Resolver 89</td>\n",
       "      <td>NaN</td>\n",
       "      <td>Resolver 125</td>\n",
       "      <td>NaN</td>\n",
       "    </tr>\n",
       "    <tr>\n",
       "      <th>knowledge</th>\n",
       "      <td>True</td>\n",
       "      <td>True</td>\n",
       "      <td>True</td>\n",
       "      <td>True</td>\n",
       "      <td>True</td>\n",
       "    </tr>\n",
       "    <tr>\n",
       "      <th>notify</th>\n",
       "      <td>Do Not Notify</td>\n",
       "      <td>Do Not Notify</td>\n",
       "      <td>Do Not Notify</td>\n",
       "      <td>Do Not Notify</td>\n",
       "      <td>Do Not Notify</td>\n",
       "    </tr>\n",
       "    <tr>\n",
       "      <th>vendor</th>\n",
       "      <td>NaN</td>\n",
       "      <td>NaN</td>\n",
       "      <td>NaN</td>\n",
       "      <td>NaN</td>\n",
       "      <td>NaN</td>\n",
       "    </tr>\n",
       "    <tr>\n",
       "      <th>target_days</th>\n",
       "      <td>5</td>\n",
       "      <td>6</td>\n",
       "      <td>5</td>\n",
       "      <td>7</td>\n",
       "      <td>5</td>\n",
       "    </tr>\n",
       "  </tbody>\n",
       "</table>\n",
       "</div>"
      ],
      "text/plain": [
       "                                      0                    1  \\\n",
       "Id                           INC0000045           INC0000047   \n",
       "reassignment_count                    0                    0   \n",
       "reopen_count                          0                    0   \n",
       "update_count                          0                    0   \n",
       "made_sla                           True                 True   \n",
       "opened_by                  Opened by  8       Opened by  397   \n",
       "opened_at           2016-02-29 01:16:00  2016-02-29 04:40:00   \n",
       "contact_type                      Phone                Phone   \n",
       "location                   Location 143         Location 165   \n",
       "category                    Category 55          Category 40   \n",
       "subcategory             Subcategory 170      Subcategory 215   \n",
       "impact                       2 - Medium           2 - Medium   \n",
       "urgency                      2 - Medium           2 - Medium   \n",
       "priority                   3 - Moderate         3 - Moderate   \n",
       "assigned_to                         NaN          Resolver 89   \n",
       "knowledge                          True                 True   \n",
       "notify                    Do Not Notify        Do Not Notify   \n",
       "vendor                              NaN                  NaN   \n",
       "target_days                           5                    6   \n",
       "\n",
       "                                      2                    3  \\\n",
       "Id                           INC0000057           INC0000060   \n",
       "reassignment_count                    0                    0   \n",
       "reopen_count                          0                    0   \n",
       "update_count                          0                    0   \n",
       "made_sla                           True                 True   \n",
       "opened_by                  Opened by  8       Opened by  180   \n",
       "opened_at           2016-02-29 06:10:00  2016-02-29 06:38:00   \n",
       "contact_type                      Phone                Phone   \n",
       "location                   Location 204         Location 204   \n",
       "category                    Category 20           Category 9   \n",
       "subcategory             Subcategory 125       Subcategory 97   \n",
       "impact                       2 - Medium           2 - Medium   \n",
       "urgency                      2 - Medium           2 - Medium   \n",
       "priority                   3 - Moderate         3 - Moderate   \n",
       "assigned_to                         NaN         Resolver 125   \n",
       "knowledge                          True                 True   \n",
       "notify                    Do Not Notify        Do Not Notify   \n",
       "vendor                              NaN                  NaN   \n",
       "target_days                           5                    7   \n",
       "\n",
       "                                      4  \n",
       "Id                           INC0000062  \n",
       "reassignment_count                    0  \n",
       "reopen_count                          0  \n",
       "update_count                          0  \n",
       "made_sla                           True  \n",
       "opened_by                Opened by  180  \n",
       "opened_at           2016-02-29 06:58:00  \n",
       "contact_type                      Phone  \n",
       "location                    Location 93  \n",
       "category                    Category 53  \n",
       "subcategory             Subcategory 168  \n",
       "impact                       2 - Medium  \n",
       "urgency                      2 - Medium  \n",
       "priority                   3 - Moderate  \n",
       "assigned_to                         NaN  \n",
       "knowledge                          True  \n",
       "notify                    Do Not Notify  \n",
       "vendor                              NaN  \n",
       "target_days                           5  "
      ]
     },
     "execution_count": 11,
     "metadata": {},
     "output_type": "execute_result"
    }
   ],
   "source": [
    "train_raw.head().T"
   ]
  },
  {
   "cell_type": "code",
   "execution_count": 12,
   "metadata": {
    "colab": {
     "base_uri": "https://localhost:8080/",
     "height": 34
    },
    "colab_type": "code",
    "id": "uhwBWbzmEW5d",
    "outputId": "3153f5dc-5abd-4248-fb25-efdb9646f7c3"
   },
   "outputs": [
    {
     "data": {
      "text/plain": [
       "((20000, 19), (4918, 18))"
      ]
     },
     "execution_count": 12,
     "metadata": {},
     "output_type": "execute_result"
    }
   ],
   "source": [
    "train_raw.shape , test_raw.shape"
   ]
  },
  {
   "cell_type": "code",
   "execution_count": 13,
   "metadata": {
    "colab": {
     "base_uri": "https://localhost:8080/",
     "height": 357
    },
    "colab_type": "code",
    "id": "h12eaB7aEW5g",
    "outputId": "2b5ad776-1dc2-487c-dd45-f90afef623e5"
   },
   "outputs": [
    {
     "data": {
      "text/plain": [
       "Id                            object\n",
       "reassignment_count             int64\n",
       "reopen_count                   int64\n",
       "update_count                   int64\n",
       "made_sla                        bool\n",
       "opened_by                     object\n",
       "opened_at             datetime64[ns]\n",
       "contact_type                  object\n",
       "location                      object\n",
       "category                      object\n",
       "subcategory                   object\n",
       "impact                        object\n",
       "urgency                       object\n",
       "priority                      object\n",
       "assigned_to                   object\n",
       "knowledge                       bool\n",
       "notify                        object\n",
       "vendor                        object\n",
       "target_days                    int64\n",
       "dtype: object"
      ]
     },
     "execution_count": 13,
     "metadata": {},
     "output_type": "execute_result"
    }
   ],
   "source": [
    "train_raw.dtypes"
   ]
  },
  {
   "cell_type": "markdown",
   "metadata": {
    "colab_type": "text",
    "id": "WQJKB03EEW5l"
   },
   "source": [
    "##  Dropping columns (based on their interdependecy and not use)"
   ]
  },
  {
   "cell_type": "code",
   "execution_count": 14,
   "metadata": {
    "colab": {},
    "colab_type": "code",
    "id": "xifwrtk9EW5m"
   },
   "outputs": [],
   "source": [
    "train_raw.drop(columns=['reassignment_count','reopen_count','Id','vendor'],inplace=True)"
   ]
  },
  {
   "cell_type": "markdown",
   "metadata": {
    "colab_type": "text",
    "id": "zQMzDnheEW5o"
   },
   "source": [
    "## Removing outliers"
   ]
  },
  {
   "cell_type": "markdown",
   "metadata": {
    "colab_type": "text",
    "id": "5SZc4DWFEW5p"
   },
   "source": [
    "#### Outliers in update_count, opened_by"
   ]
  },
  {
   "cell_type": "code",
   "execution_count": 15,
   "metadata": {
    "colab": {},
    "colab_type": "code",
    "id": "pk_vvhJJEW5q"
   },
   "outputs": [],
   "source": [
    "train_raw.drop(train_raw[train_raw['update_count'] !=0].index,inplace=True)"
   ]
  },
  {
   "cell_type": "code",
   "execution_count": 16,
   "metadata": {
    "colab": {
     "base_uri": "https://localhost:8080/",
     "height": 51
    },
    "colab_type": "code",
    "id": "xX0J_HoYEW5u",
    "outputId": "d8d1f150-70d3-4091-ef87-1edf85cdd2b6"
   },
   "outputs": [
    {
     "data": {
      "text/plain": [
       "0    19995\n",
       "Name: update_count, dtype: int64"
      ]
     },
     "execution_count": 16,
     "metadata": {},
     "output_type": "execute_result"
    }
   ],
   "source": [
    "train_raw.update_count.value_counts()"
   ]
  },
  {
   "cell_type": "markdown",
   "metadata": {
    "colab_type": "text",
    "id": "uJxFXLJNEW5y"
   },
   "source": [
    "####  The columns opened_by,location,category,subcategory can be made integer directly by stripping away the alphacharacters .  The columns impact,urgency,priority could be splitted."
   ]
  },
  {
   "cell_type": "code",
   "execution_count": 17,
   "metadata": {
    "colab": {},
    "colab_type": "code",
    "id": "hSQdHUniEW5z"
   },
   "outputs": [],
   "source": [
    "add_datepart(train_raw,'opened_at')"
   ]
  },
  {
   "cell_type": "markdown",
   "metadata": {
    "colab_type": "text",
    "id": "DdUF-rVzEW51"
   },
   "source": [
    "## Splitting column data "
   ]
  },
  {
   "cell_type": "code",
   "execution_count": 18,
   "metadata": {
    "colab": {},
    "colab_type": "code",
    "id": "QWyMIZfiEW52"
   },
   "outputs": [],
   "source": [
    "# train_raw['opened_by'] = train_raw['opened_by'].str.split(expand=True)[2]\n",
    "#  train_raw.opened_by.astype('int')"
   ]
  },
  {
   "cell_type": "code",
   "execution_count": 19,
   "metadata": {
    "colab": {},
    "colab_type": "code",
    "id": "0WjILum5EW54",
    "outputId": "65eab611-0cc5-4570-a17e-cc8c024fb740"
   },
   "outputs": [],
   "source": [
    "# train_raw['opened_by'].isnull().sum()"
   ]
  },
  {
   "cell_type": "code",
   "execution_count": 20,
   "metadata": {
    "colab": {},
    "colab_type": "code",
    "id": "wdw_yloaEW59"
   },
   "outputs": [],
   "source": [
    "# train_raw.dtypes"
   ]
  },
  {
   "cell_type": "code",
   "execution_count": 21,
   "metadata": {
    "colab": {},
    "colab_type": "code",
    "id": "roQw0G6_EW5_"
   },
   "outputs": [],
   "source": [
    "# train_raw.opened_by.astype('int',errors='ignore')"
   ]
  },
  {
   "cell_type": "code",
   "execution_count": 22,
   "metadata": {
    "colab": {},
    "colab_type": "code",
    "id": "0GVgW2u0EW6B"
   },
   "outputs": [],
   "source": [
    "# train_raw['opened_by_na'] = train_raw['opened_by'].copy().isna()"
   ]
  },
  {
   "cell_type": "code",
   "execution_count": 23,
   "metadata": {
    "colab": {},
    "colab_type": "code",
    "id": "MIw1AXivEW6G"
   },
   "outputs": [],
   "source": [
    "# train_raw[train_raw['opened_by'].isna()] = 0 "
   ]
  },
  {
   "cell_type": "code",
   "execution_count": 24,
   "metadata": {
    "colab": {},
    "colab_type": "code",
    "id": "d14j6hw-EW6I"
   },
   "outputs": [],
   "source": [
    "# train_raw.opened_by_na.value_counts()"
   ]
  },
  {
   "cell_type": "markdown",
   "metadata": {
    "colab_type": "text",
    "id": "5dDS-28cEW6R"
   },
   "source": [
    "#### Now since we have many null values and we got to deal with that. We could do one hot encoding . Make a column of opened_by_na and then give 1 to value having NaN values and 0 to rest . And then in opened_by column we could make all of them as 0. Maybe this is all is pre implemented in a function in fastai . Got to check that. "
   ]
  },
  {
   "cell_type": "code",
   "execution_count": 25,
   "metadata": {
    "colab": {},
    "colab_type": "code",
    "id": "JRbCf2qZEW6R"
   },
   "outputs": [],
   "source": [
    "train_cats(train_raw)"
   ]
  },
  {
   "cell_type": "code",
   "execution_count": 26,
   "metadata": {
    "colab": {},
    "colab_type": "code",
    "id": "qvCAla_3EW6T"
   },
   "outputs": [],
   "source": [
    "train_raw.impact.cat.set_categories(['3 - Low','2 - Medium','1 - High'],ordered=True,inplace=True)\n",
    "train_raw.urgency.cat.set_categories(['3 - Low','2 - Medium','1 - High'],ordered=True,inplace=True)\n",
    "train_raw.priority.cat.set_categories(train_raw.priority.cat.categories[::-1],ordered=True,inplace=True)"
   ]
  },
  {
   "cell_type": "code",
   "execution_count": 27,
   "metadata": {
    "colab": {
     "base_uri": "https://localhost:8080/",
     "height": 493
    },
    "colab_type": "code",
    "id": "D43eqHjPEW6V",
    "outputId": "6e8e361c-58f3-4d69-b918-362684d554b4"
   },
   "outputs": [
    {
     "data": {
      "text/plain": [
       "assigned_to                  0.270368\n",
       "category                     0.001300\n",
       "contact_type                 0.000000\n",
       "impact                       0.000000\n",
       "knowledge                    0.000000\n",
       "location                     0.002601\n",
       "made_sla                     0.000000\n",
       "notify                       0.000000\n",
       "opened_atDay                 0.000000\n",
       "opened_atDayofweek           0.000000\n",
       "opened_atDayofyear           0.000000\n",
       "opened_atElapsed             0.000000\n",
       "opened_atIs_month_end        0.000000\n",
       "opened_atIs_month_start      0.000000\n",
       "opened_atIs_quarter_end      0.000000\n",
       "opened_atIs_quarter_start    0.000000\n",
       "opened_atIs_year_end         0.000000\n",
       "opened_atIs_year_start       0.000000\n",
       "opened_atMonth               0.000000\n",
       "opened_atWeek                0.000000\n",
       "opened_atYear                0.000000\n",
       "opened_by                    0.035709\n",
       "priority                     0.000000\n",
       "subcategory                  0.002801\n",
       "target_days                  0.000000\n",
       "update_count                 0.000000\n",
       "urgency                      0.000000\n",
       "dtype: float64"
      ]
     },
     "execution_count": 27,
     "metadata": {},
     "output_type": "execute_result"
    }
   ],
   "source": [
    "train_raw.isnull().sum().sort_index()/len(train_raw)"
   ]
  },
  {
   "cell_type": "markdown",
   "metadata": {
    "colab_type": "text",
    "id": "eWiDOoM7EW6Y"
   },
   "source": [
    "# Preprocessing"
   ]
  },
  {
   "cell_type": "code",
   "execution_count": 28,
   "metadata": {
    "colab": {},
    "colab_type": "code",
    "id": "_6HczcajEW6Z"
   },
   "outputs": [],
   "source": [
    "def preprocessing(df_raw):\n",
    "    df = df_raw.copy()\n",
    "    df.drop(columns=['reassignment_count','reopen_count','Id','vendor'],inplace=True)\n",
    "    add_datepart(df,'opened_at')\n",
    "    df['opened_by'] = df['opened_by'].str.split(expand=True)[2]\n",
    "    return df"
   ]
  },
  {
   "cell_type": "markdown",
   "metadata": {
    "colab_type": "text",
    "id": "ZpiJPZm2EW6b"
   },
   "source": [
    "## Data after preprocessing "
   ]
  },
  {
   "cell_type": "code",
   "execution_count": 29,
   "metadata": {
    "colab": {
     "base_uri": "https://localhost:8080/",
     "height": 886
    },
    "colab_type": "code",
    "id": "OLiYNgmKEW6b",
    "outputId": "d8e7c33c-3ee0-419d-d436-7b7f7720bfbe"
   },
   "outputs": [
    {
     "data": {
      "text/html": [
       "<div>\n",
       "<style scoped>\n",
       "    .dataframe tbody tr th:only-of-type {\n",
       "        vertical-align: middle;\n",
       "    }\n",
       "\n",
       "    .dataframe tbody tr th {\n",
       "        vertical-align: top;\n",
       "    }\n",
       "\n",
       "    .dataframe thead th {\n",
       "        text-align: right;\n",
       "    }\n",
       "</style>\n",
       "<table border=\"1\" class=\"dataframe\">\n",
       "  <thead>\n",
       "    <tr style=\"text-align: right;\">\n",
       "      <th></th>\n",
       "      <th>0</th>\n",
       "      <th>1</th>\n",
       "      <th>2</th>\n",
       "      <th>3</th>\n",
       "      <th>4</th>\n",
       "    </tr>\n",
       "  </thead>\n",
       "  <tbody>\n",
       "    <tr>\n",
       "      <th>update_count</th>\n",
       "      <td>0</td>\n",
       "      <td>0</td>\n",
       "      <td>0</td>\n",
       "      <td>0</td>\n",
       "      <td>0</td>\n",
       "    </tr>\n",
       "    <tr>\n",
       "      <th>made_sla</th>\n",
       "      <td>True</td>\n",
       "      <td>True</td>\n",
       "      <td>True</td>\n",
       "      <td>True</td>\n",
       "      <td>True</td>\n",
       "    </tr>\n",
       "    <tr>\n",
       "      <th>opened_by</th>\n",
       "      <td>Opened by  8</td>\n",
       "      <td>Opened by  397</td>\n",
       "      <td>Opened by  8</td>\n",
       "      <td>Opened by  180</td>\n",
       "      <td>Opened by  180</td>\n",
       "    </tr>\n",
       "    <tr>\n",
       "      <th>contact_type</th>\n",
       "      <td>Phone</td>\n",
       "      <td>Phone</td>\n",
       "      <td>Phone</td>\n",
       "      <td>Phone</td>\n",
       "      <td>Phone</td>\n",
       "    </tr>\n",
       "    <tr>\n",
       "      <th>location</th>\n",
       "      <td>Location 143</td>\n",
       "      <td>Location 165</td>\n",
       "      <td>Location 204</td>\n",
       "      <td>Location 204</td>\n",
       "      <td>Location 93</td>\n",
       "    </tr>\n",
       "    <tr>\n",
       "      <th>category</th>\n",
       "      <td>Category 55</td>\n",
       "      <td>Category 40</td>\n",
       "      <td>Category 20</td>\n",
       "      <td>Category 9</td>\n",
       "      <td>Category 53</td>\n",
       "    </tr>\n",
       "    <tr>\n",
       "      <th>subcategory</th>\n",
       "      <td>Subcategory 170</td>\n",
       "      <td>Subcategory 215</td>\n",
       "      <td>Subcategory 125</td>\n",
       "      <td>Subcategory 97</td>\n",
       "      <td>Subcategory 168</td>\n",
       "    </tr>\n",
       "    <tr>\n",
       "      <th>impact</th>\n",
       "      <td>2 - Medium</td>\n",
       "      <td>2 - Medium</td>\n",
       "      <td>2 - Medium</td>\n",
       "      <td>2 - Medium</td>\n",
       "      <td>2 - Medium</td>\n",
       "    </tr>\n",
       "    <tr>\n",
       "      <th>urgency</th>\n",
       "      <td>2 - Medium</td>\n",
       "      <td>2 - Medium</td>\n",
       "      <td>2 - Medium</td>\n",
       "      <td>2 - Medium</td>\n",
       "      <td>2 - Medium</td>\n",
       "    </tr>\n",
       "    <tr>\n",
       "      <th>priority</th>\n",
       "      <td>3 - Moderate</td>\n",
       "      <td>3 - Moderate</td>\n",
       "      <td>3 - Moderate</td>\n",
       "      <td>3 - Moderate</td>\n",
       "      <td>3 - Moderate</td>\n",
       "    </tr>\n",
       "    <tr>\n",
       "      <th>assigned_to</th>\n",
       "      <td>NaN</td>\n",
       "      <td>Resolver 89</td>\n",
       "      <td>NaN</td>\n",
       "      <td>Resolver 125</td>\n",
       "      <td>NaN</td>\n",
       "    </tr>\n",
       "    <tr>\n",
       "      <th>knowledge</th>\n",
       "      <td>True</td>\n",
       "      <td>True</td>\n",
       "      <td>True</td>\n",
       "      <td>True</td>\n",
       "      <td>True</td>\n",
       "    </tr>\n",
       "    <tr>\n",
       "      <th>notify</th>\n",
       "      <td>Do Not Notify</td>\n",
       "      <td>Do Not Notify</td>\n",
       "      <td>Do Not Notify</td>\n",
       "      <td>Do Not Notify</td>\n",
       "      <td>Do Not Notify</td>\n",
       "    </tr>\n",
       "    <tr>\n",
       "      <th>target_days</th>\n",
       "      <td>5</td>\n",
       "      <td>6</td>\n",
       "      <td>5</td>\n",
       "      <td>7</td>\n",
       "      <td>5</td>\n",
       "    </tr>\n",
       "    <tr>\n",
       "      <th>opened_atYear</th>\n",
       "      <td>2016</td>\n",
       "      <td>2016</td>\n",
       "      <td>2016</td>\n",
       "      <td>2016</td>\n",
       "      <td>2016</td>\n",
       "    </tr>\n",
       "    <tr>\n",
       "      <th>opened_atMonth</th>\n",
       "      <td>2</td>\n",
       "      <td>2</td>\n",
       "      <td>2</td>\n",
       "      <td>2</td>\n",
       "      <td>2</td>\n",
       "    </tr>\n",
       "    <tr>\n",
       "      <th>opened_atWeek</th>\n",
       "      <td>9</td>\n",
       "      <td>9</td>\n",
       "      <td>9</td>\n",
       "      <td>9</td>\n",
       "      <td>9</td>\n",
       "    </tr>\n",
       "    <tr>\n",
       "      <th>opened_atDay</th>\n",
       "      <td>29</td>\n",
       "      <td>29</td>\n",
       "      <td>29</td>\n",
       "      <td>29</td>\n",
       "      <td>29</td>\n",
       "    </tr>\n",
       "    <tr>\n",
       "      <th>opened_atDayofweek</th>\n",
       "      <td>0</td>\n",
       "      <td>0</td>\n",
       "      <td>0</td>\n",
       "      <td>0</td>\n",
       "      <td>0</td>\n",
       "    </tr>\n",
       "    <tr>\n",
       "      <th>opened_atDayofyear</th>\n",
       "      <td>60</td>\n",
       "      <td>60</td>\n",
       "      <td>60</td>\n",
       "      <td>60</td>\n",
       "      <td>60</td>\n",
       "    </tr>\n",
       "    <tr>\n",
       "      <th>opened_atIs_month_end</th>\n",
       "      <td>True</td>\n",
       "      <td>True</td>\n",
       "      <td>True</td>\n",
       "      <td>True</td>\n",
       "      <td>True</td>\n",
       "    </tr>\n",
       "    <tr>\n",
       "      <th>opened_atIs_month_start</th>\n",
       "      <td>False</td>\n",
       "      <td>False</td>\n",
       "      <td>False</td>\n",
       "      <td>False</td>\n",
       "      <td>False</td>\n",
       "    </tr>\n",
       "    <tr>\n",
       "      <th>opened_atIs_quarter_end</th>\n",
       "      <td>False</td>\n",
       "      <td>False</td>\n",
       "      <td>False</td>\n",
       "      <td>False</td>\n",
       "      <td>False</td>\n",
       "    </tr>\n",
       "    <tr>\n",
       "      <th>opened_atIs_quarter_start</th>\n",
       "      <td>False</td>\n",
       "      <td>False</td>\n",
       "      <td>False</td>\n",
       "      <td>False</td>\n",
       "      <td>False</td>\n",
       "    </tr>\n",
       "    <tr>\n",
       "      <th>opened_atIs_year_end</th>\n",
       "      <td>False</td>\n",
       "      <td>False</td>\n",
       "      <td>False</td>\n",
       "      <td>False</td>\n",
       "      <td>False</td>\n",
       "    </tr>\n",
       "    <tr>\n",
       "      <th>opened_atIs_year_start</th>\n",
       "      <td>False</td>\n",
       "      <td>False</td>\n",
       "      <td>False</td>\n",
       "      <td>False</td>\n",
       "      <td>False</td>\n",
       "    </tr>\n",
       "    <tr>\n",
       "      <th>opened_atElapsed</th>\n",
       "      <td>1456708560</td>\n",
       "      <td>1456720800</td>\n",
       "      <td>1456726200</td>\n",
       "      <td>1456727880</td>\n",
       "      <td>1456729080</td>\n",
       "    </tr>\n",
       "  </tbody>\n",
       "</table>\n",
       "</div>"
      ],
      "text/plain": [
       "                                         0                1                2  \\\n",
       "update_count                             0                0                0   \n",
       "made_sla                              True             True             True   \n",
       "opened_by                     Opened by  8   Opened by  397     Opened by  8   \n",
       "contact_type                         Phone            Phone            Phone   \n",
       "location                      Location 143     Location 165     Location 204   \n",
       "category                       Category 55      Category 40      Category 20   \n",
       "subcategory                Subcategory 170  Subcategory 215  Subcategory 125   \n",
       "impact                          2 - Medium       2 - Medium       2 - Medium   \n",
       "urgency                         2 - Medium       2 - Medium       2 - Medium   \n",
       "priority                      3 - Moderate     3 - Moderate     3 - Moderate   \n",
       "assigned_to                            NaN      Resolver 89              NaN   \n",
       "knowledge                             True             True             True   \n",
       "notify                       Do Not Notify    Do Not Notify    Do Not Notify   \n",
       "target_days                              5                6                5   \n",
       "opened_atYear                         2016             2016             2016   \n",
       "opened_atMonth                           2                2                2   \n",
       "opened_atWeek                            9                9                9   \n",
       "opened_atDay                            29               29               29   \n",
       "opened_atDayofweek                       0                0                0   \n",
       "opened_atDayofyear                      60               60               60   \n",
       "opened_atIs_month_end                 True             True             True   \n",
       "opened_atIs_month_start              False            False            False   \n",
       "opened_atIs_quarter_end              False            False            False   \n",
       "opened_atIs_quarter_start            False            False            False   \n",
       "opened_atIs_year_end                 False            False            False   \n",
       "opened_atIs_year_start               False            False            False   \n",
       "opened_atElapsed                1456708560       1456720800       1456726200   \n",
       "\n",
       "                                        3                4  \n",
       "update_count                            0                0  \n",
       "made_sla                             True             True  \n",
       "opened_by                  Opened by  180   Opened by  180  \n",
       "contact_type                        Phone            Phone  \n",
       "location                     Location 204      Location 93  \n",
       "category                       Category 9      Category 53  \n",
       "subcategory                Subcategory 97  Subcategory 168  \n",
       "impact                         2 - Medium       2 - Medium  \n",
       "urgency                        2 - Medium       2 - Medium  \n",
       "priority                     3 - Moderate     3 - Moderate  \n",
       "assigned_to                  Resolver 125              NaN  \n",
       "knowledge                            True             True  \n",
       "notify                      Do Not Notify    Do Not Notify  \n",
       "target_days                             7                5  \n",
       "opened_atYear                        2016             2016  \n",
       "opened_atMonth                          2                2  \n",
       "opened_atWeek                           9                9  \n",
       "opened_atDay                           29               29  \n",
       "opened_atDayofweek                      0                0  \n",
       "opened_atDayofyear                     60               60  \n",
       "opened_atIs_month_end                True             True  \n",
       "opened_atIs_month_start             False            False  \n",
       "opened_atIs_quarter_end             False            False  \n",
       "opened_atIs_quarter_start           False            False  \n",
       "opened_atIs_year_end                False            False  \n",
       "opened_atIs_year_start              False            False  \n",
       "opened_atElapsed               1456727880       1456729080  "
      ]
     },
     "metadata": {},
     "output_type": "display_data"
    }
   ],
   "source": [
    "display_all(train_raw.head().T)"
   ]
  },
  {
   "cell_type": "markdown",
   "metadata": {
    "colab_type": "text",
    "id": "1VpQG9XukrG7"
   },
   "source": [
    "# Preparing model"
   ]
  },
  {
   "cell_type": "code",
   "execution_count": 30,
   "metadata": {
    "colab": {},
    "colab_type": "code",
    "id": "F_VBH0aIEW6e"
   },
   "outputs": [],
   "source": [
    "train , y, nas = proc_df(train_raw,'target_days')"
   ]
  },
  {
   "cell_type": "code",
   "execution_count": 31,
   "metadata": {
    "colab": {
     "base_uri": "https://localhost:8080/",
     "height": 34
    },
    "colab_type": "code",
    "id": "BhtBRrjCEW6m",
    "outputId": "76f2b10a-efc9-451a-c49d-dda17c8929b1"
   },
   "outputs": [
    {
     "data": {
      "text/plain": [
       "((16995, 26), (3000, 26), (16995,), (3000,))"
      ]
     },
     "execution_count": 31,
     "metadata": {},
     "output_type": "execute_result"
    }
   ],
   "source": [
    "n_valid = 3000 \n",
    "n_trn = len(train) - n_valid\n",
    "X_train , X_valid = split_vals(train,n_trn)\n",
    "y_train , y_valid = split_vals(y,n_trn)\n",
    "\n",
    "X_train.shape , X_valid.shape , y_train.shape , y_valid.shape"
   ]
  },
  {
   "cell_type": "code",
   "execution_count": 32,
   "metadata": {
    "colab": {
     "base_uri": "https://localhost:8080/",
     "height": 136
    },
    "colab_type": "code",
    "id": "qwG7Su5BEW6q",
    "outputId": "c78d56bc-3c40-4441-b1f6-ab3d02869914"
   },
   "outputs": [],
   "source": [
    "#m = RandomForestClassifier(n_estimators=10,n_jobs=-1,random_state=3,min_samples_leaf=1)\n",
    "#m.fit(X_train,y_train)"
   ]
  },
  {
   "cell_type": "code",
   "execution_count": 33,
   "metadata": {
    "colab": {
     "base_uri": "https://localhost:8080/",
     "height": 34
    },
    "colab_type": "code",
    "id": "DQGMXm-9EW6s",
    "outputId": "d7897c08-20a6-4079-cc5e-362f74e2dbdb"
   },
   "outputs": [],
   "source": [
    "#print_score(m)"
   ]
  },
  {
   "cell_type": "code",
   "execution_count": 34,
   "metadata": {},
   "outputs": [],
   "source": [
    "from xgboost import XGBClassifier"
   ]
  },
  {
   "cell_type": "code",
   "execution_count": 35,
   "metadata": {},
   "outputs": [],
   "source": [
    "model = XGBClassifier(n_estimators=100,learning_rate=0.055)"
   ]
  },
  {
   "cell_type": "code",
   "execution_count": 36,
   "metadata": {},
   "outputs": [],
   "source": [
    "#model.fit(X_train,y_train)"
   ]
  },
  {
   "cell_type": "code",
   "execution_count": 37,
   "metadata": {},
   "outputs": [],
   "source": [
    "# print_score(model)"
   ]
  },
  {
   "cell_type": "code",
   "execution_count": 38,
   "metadata": {
    "scrolled": true
   },
   "outputs": [
    {
     "name": "stderr",
     "output_type": "stream",
     "text": [
      "Using TensorFlow backend.\n"
     ]
    }
   ],
   "source": [
    "import keras"
   ]
  },
  {
   "cell_type": "code",
   "execution_count": 39,
   "metadata": {},
   "outputs": [],
   "source": [
    "from keras.models import Sequential # intitialize the ANN\n",
    "from keras.layers import Dense"
   ]
  },
  {
   "cell_type": "code",
   "execution_count": 40,
   "metadata": {},
   "outputs": [],
   "source": [
    "t = Sequential()"
   ]
  },
  {
   "cell_type": "code",
   "execution_count": 41,
   "metadata": {},
   "outputs": [
    {
     "name": "stdout",
     "output_type": "stream",
     "text": [
      "WARNING:tensorflow:From /home/vaibhav/anaconda3/envs/ml/lib/python3.6/site-packages/tensorflow/python/framework/op_def_library.py:263: colocate_with (from tensorflow.python.framework.ops) is deprecated and will be removed in a future version.\n",
      "Instructions for updating:\n",
      "Colocations handled automatically by placer.\n"
     ]
    }
   ],
   "source": [
    "t.add(Dense(units = 26, kernel_initializer = 'uniform', activation = 'relu', input_dim = 17))\n",
    "t.add(Dense(units = 9, kernel_initializer = 'uniform', activation = 'relu'))\n",
    "t.add(Dense(units = 5, kernel_initializer = 'uniform', activation = 'relu'))\n",
    "t.add(Dense(units = 1, kernel_initializer = 'uniform', activation = 'sigmoid'))"
   ]
  },
  {
   "cell_type": "code",
   "execution_count": 42,
   "metadata": {},
   "outputs": [],
   "source": [
    "t.compile(optimizer = 'adam', loss = 'binary_crossentropy', metrics = ['accuracy'])"
   ]
  },
  {
   "cell_type": "code",
   "execution_count": 43,
   "metadata": {},
   "outputs": [
    {
     "data": {
      "text/html": [
       "<div>\n",
       "<style scoped>\n",
       "    .dataframe tbody tr th:only-of-type {\n",
       "        vertical-align: middle;\n",
       "    }\n",
       "\n",
       "    .dataframe tbody tr th {\n",
       "        vertical-align: top;\n",
       "    }\n",
       "\n",
       "    .dataframe thead th {\n",
       "        text-align: right;\n",
       "    }\n",
       "</style>\n",
       "<table border=\"1\" class=\"dataframe\">\n",
       "  <thead>\n",
       "    <tr style=\"text-align: right;\">\n",
       "      <th></th>\n",
       "      <th>0</th>\n",
       "      <th>1</th>\n",
       "      <th>2</th>\n",
       "      <th>3</th>\n",
       "      <th>4</th>\n",
       "      <th>5</th>\n",
       "      <th>6</th>\n",
       "      <th>7</th>\n",
       "      <th>8</th>\n",
       "      <th>9</th>\n",
       "      <th>...</th>\n",
       "      <th>16990</th>\n",
       "      <th>16991</th>\n",
       "      <th>16992</th>\n",
       "      <th>16993</th>\n",
       "      <th>16994</th>\n",
       "      <th>16995</th>\n",
       "      <th>16996</th>\n",
       "      <th>16997</th>\n",
       "      <th>16998</th>\n",
       "      <th>16999</th>\n",
       "    </tr>\n",
       "  </thead>\n",
       "  <tbody>\n",
       "    <tr>\n",
       "      <th>update_count</th>\n",
       "      <td>0</td>\n",
       "      <td>0</td>\n",
       "      <td>0</td>\n",
       "      <td>0</td>\n",
       "      <td>0</td>\n",
       "      <td>0</td>\n",
       "      <td>0</td>\n",
       "      <td>0</td>\n",
       "      <td>0</td>\n",
       "      <td>0</td>\n",
       "      <td>...</td>\n",
       "      <td>0</td>\n",
       "      <td>0</td>\n",
       "      <td>0</td>\n",
       "      <td>0</td>\n",
       "      <td>0</td>\n",
       "      <td>0</td>\n",
       "      <td>0</td>\n",
       "      <td>0</td>\n",
       "      <td>0</td>\n",
       "      <td>0</td>\n",
       "    </tr>\n",
       "    <tr>\n",
       "      <th>made_sla</th>\n",
       "      <td>True</td>\n",
       "      <td>True</td>\n",
       "      <td>True</td>\n",
       "      <td>True</td>\n",
       "      <td>True</td>\n",
       "      <td>True</td>\n",
       "      <td>True</td>\n",
       "      <td>True</td>\n",
       "      <td>True</td>\n",
       "      <td>True</td>\n",
       "      <td>...</td>\n",
       "      <td>True</td>\n",
       "      <td>True</td>\n",
       "      <td>True</td>\n",
       "      <td>True</td>\n",
       "      <td>True</td>\n",
       "      <td>True</td>\n",
       "      <td>True</td>\n",
       "      <td>True</td>\n",
       "      <td>True</td>\n",
       "      <td>True</td>\n",
       "    </tr>\n",
       "    <tr>\n",
       "      <th>opened_by</th>\n",
       "      <td>148</td>\n",
       "      <td>92</td>\n",
       "      <td>148</td>\n",
       "      <td>25</td>\n",
       "      <td>25</td>\n",
       "      <td>25</td>\n",
       "      <td>13</td>\n",
       "      <td>13</td>\n",
       "      <td>45</td>\n",
       "      <td>25</td>\n",
       "      <td>...</td>\n",
       "      <td>141</td>\n",
       "      <td>64</td>\n",
       "      <td>22</td>\n",
       "      <td>45</td>\n",
       "      <td>11</td>\n",
       "      <td>137</td>\n",
       "      <td>4</td>\n",
       "      <td>40</td>\n",
       "      <td>45</td>\n",
       "      <td>141</td>\n",
       "    </tr>\n",
       "    <tr>\n",
       "      <th>contact_type</th>\n",
       "      <td>2</td>\n",
       "      <td>2</td>\n",
       "      <td>2</td>\n",
       "      <td>2</td>\n",
       "      <td>2</td>\n",
       "      <td>2</td>\n",
       "      <td>2</td>\n",
       "      <td>2</td>\n",
       "      <td>2</td>\n",
       "      <td>2</td>\n",
       "      <td>...</td>\n",
       "      <td>2</td>\n",
       "      <td>2</td>\n",
       "      <td>2</td>\n",
       "      <td>2</td>\n",
       "      <td>2</td>\n",
       "      <td>2</td>\n",
       "      <td>2</td>\n",
       "      <td>2</td>\n",
       "      <td>2</td>\n",
       "      <td>2</td>\n",
       "    </tr>\n",
       "    <tr>\n",
       "      <th>location</th>\n",
       "      <td>36</td>\n",
       "      <td>50</td>\n",
       "      <td>87</td>\n",
       "      <td>87</td>\n",
       "      <td>189</td>\n",
       "      <td>189</td>\n",
       "      <td>36</td>\n",
       "      <td>5</td>\n",
       "      <td>48</td>\n",
       "      <td>36</td>\n",
       "      <td>...</td>\n",
       "      <td>87</td>\n",
       "      <td>5</td>\n",
       "      <td>87</td>\n",
       "      <td>36</td>\n",
       "      <td>189</td>\n",
       "      <td>36</td>\n",
       "      <td>182</td>\n",
       "      <td>48</td>\n",
       "      <td>36</td>\n",
       "      <td>87</td>\n",
       "    </tr>\n",
       "    <tr>\n",
       "      <th>category</th>\n",
       "      <td>36</td>\n",
       "      <td>24</td>\n",
       "      <td>5</td>\n",
       "      <td>44</td>\n",
       "      <td>34</td>\n",
       "      <td>5</td>\n",
       "      <td>34</td>\n",
       "      <td>28</td>\n",
       "      <td>36</td>\n",
       "      <td>44</td>\n",
       "      <td>...</td>\n",
       "      <td>26</td>\n",
       "      <td>7</td>\n",
       "      <td>10</td>\n",
       "      <td>10</td>\n",
       "      <td>7</td>\n",
       "      <td>17</td>\n",
       "      <td>7</td>\n",
       "      <td>21</td>\n",
       "      <td>10</td>\n",
       "      <td>10</td>\n",
       "    </tr>\n",
       "    <tr>\n",
       "      <th>subcategory</th>\n",
       "      <td>60</td>\n",
       "      <td>98</td>\n",
       "      <td>25</td>\n",
       "      <td>213</td>\n",
       "      <td>57</td>\n",
       "      <td>25</td>\n",
       "      <td>57</td>\n",
       "      <td>108</td>\n",
       "      <td>75</td>\n",
       "      <td>11</td>\n",
       "      <td>...</td>\n",
       "      <td>103</td>\n",
       "      <td>64</td>\n",
       "      <td>65</td>\n",
       "      <td>65</td>\n",
       "      <td>159</td>\n",
       "      <td>64</td>\n",
       "      <td>64</td>\n",
       "      <td>32</td>\n",
       "      <td>65</td>\n",
       "      <td>65</td>\n",
       "    </tr>\n",
       "    <tr>\n",
       "      <th>impact</th>\n",
       "      <td>2</td>\n",
       "      <td>2</td>\n",
       "      <td>2</td>\n",
       "      <td>2</td>\n",
       "      <td>2</td>\n",
       "      <td>2</td>\n",
       "      <td>2</td>\n",
       "      <td>2</td>\n",
       "      <td>2</td>\n",
       "      <td>2</td>\n",
       "      <td>...</td>\n",
       "      <td>2</td>\n",
       "      <td>2</td>\n",
       "      <td>2</td>\n",
       "      <td>2</td>\n",
       "      <td>2</td>\n",
       "      <td>2</td>\n",
       "      <td>2</td>\n",
       "      <td>2</td>\n",
       "      <td>2</td>\n",
       "      <td>2</td>\n",
       "    </tr>\n",
       "    <tr>\n",
       "      <th>urgency</th>\n",
       "      <td>2</td>\n",
       "      <td>2</td>\n",
       "      <td>2</td>\n",
       "      <td>2</td>\n",
       "      <td>2</td>\n",
       "      <td>2</td>\n",
       "      <td>2</td>\n",
       "      <td>2</td>\n",
       "      <td>2</td>\n",
       "      <td>2</td>\n",
       "      <td>...</td>\n",
       "      <td>2</td>\n",
       "      <td>2</td>\n",
       "      <td>2</td>\n",
       "      <td>2</td>\n",
       "      <td>2</td>\n",
       "      <td>2</td>\n",
       "      <td>2</td>\n",
       "      <td>2</td>\n",
       "      <td>2</td>\n",
       "      <td>2</td>\n",
       "    </tr>\n",
       "    <tr>\n",
       "      <th>priority</th>\n",
       "      <td>2</td>\n",
       "      <td>2</td>\n",
       "      <td>2</td>\n",
       "      <td>2</td>\n",
       "      <td>2</td>\n",
       "      <td>2</td>\n",
       "      <td>2</td>\n",
       "      <td>2</td>\n",
       "      <td>2</td>\n",
       "      <td>2</td>\n",
       "      <td>...</td>\n",
       "      <td>2</td>\n",
       "      <td>2</td>\n",
       "      <td>2</td>\n",
       "      <td>2</td>\n",
       "      <td>2</td>\n",
       "      <td>2</td>\n",
       "      <td>2</td>\n",
       "      <td>2</td>\n",
       "      <td>2</td>\n",
       "      <td>2</td>\n",
       "    </tr>\n",
       "    <tr>\n",
       "      <th>assigned_to</th>\n",
       "      <td>0</td>\n",
       "      <td>175</td>\n",
       "      <td>0</td>\n",
       "      <td>18</td>\n",
       "      <td>0</td>\n",
       "      <td>0</td>\n",
       "      <td>169</td>\n",
       "      <td>97</td>\n",
       "      <td>0</td>\n",
       "      <td>116</td>\n",
       "      <td>...</td>\n",
       "      <td>134</td>\n",
       "      <td>0</td>\n",
       "      <td>0</td>\n",
       "      <td>60</td>\n",
       "      <td>162</td>\n",
       "      <td>130</td>\n",
       "      <td>0</td>\n",
       "      <td>14</td>\n",
       "      <td>60</td>\n",
       "      <td>0</td>\n",
       "    </tr>\n",
       "    <tr>\n",
       "      <th>knowledge</th>\n",
       "      <td>True</td>\n",
       "      <td>True</td>\n",
       "      <td>True</td>\n",
       "      <td>True</td>\n",
       "      <td>True</td>\n",
       "      <td>True</td>\n",
       "      <td>True</td>\n",
       "      <td>True</td>\n",
       "      <td>True</td>\n",
       "      <td>True</td>\n",
       "      <td>...</td>\n",
       "      <td>False</td>\n",
       "      <td>False</td>\n",
       "      <td>False</td>\n",
       "      <td>False</td>\n",
       "      <td>False</td>\n",
       "      <td>False</td>\n",
       "      <td>False</td>\n",
       "      <td>False</td>\n",
       "      <td>False</td>\n",
       "      <td>False</td>\n",
       "    </tr>\n",
       "    <tr>\n",
       "      <th>notify</th>\n",
       "      <td>1</td>\n",
       "      <td>1</td>\n",
       "      <td>1</td>\n",
       "      <td>1</td>\n",
       "      <td>1</td>\n",
       "      <td>1</td>\n",
       "      <td>1</td>\n",
       "      <td>1</td>\n",
       "      <td>1</td>\n",
       "      <td>1</td>\n",
       "      <td>...</td>\n",
       "      <td>1</td>\n",
       "      <td>1</td>\n",
       "      <td>1</td>\n",
       "      <td>1</td>\n",
       "      <td>1</td>\n",
       "      <td>1</td>\n",
       "      <td>1</td>\n",
       "      <td>1</td>\n",
       "      <td>1</td>\n",
       "      <td>1</td>\n",
       "    </tr>\n",
       "    <tr>\n",
       "      <th>opened_atYear</th>\n",
       "      <td>2016</td>\n",
       "      <td>2016</td>\n",
       "      <td>2016</td>\n",
       "      <td>2016</td>\n",
       "      <td>2016</td>\n",
       "      <td>2016</td>\n",
       "      <td>2016</td>\n",
       "      <td>2016</td>\n",
       "      <td>2016</td>\n",
       "      <td>2016</td>\n",
       "      <td>...</td>\n",
       "      <td>2016</td>\n",
       "      <td>2016</td>\n",
       "      <td>2016</td>\n",
       "      <td>2016</td>\n",
       "      <td>2016</td>\n",
       "      <td>2016</td>\n",
       "      <td>2016</td>\n",
       "      <td>2016</td>\n",
       "      <td>2016</td>\n",
       "      <td>2016</td>\n",
       "    </tr>\n",
       "    <tr>\n",
       "      <th>opened_atMonth</th>\n",
       "      <td>2</td>\n",
       "      <td>2</td>\n",
       "      <td>2</td>\n",
       "      <td>2</td>\n",
       "      <td>2</td>\n",
       "      <td>2</td>\n",
       "      <td>2</td>\n",
       "      <td>2</td>\n",
       "      <td>2</td>\n",
       "      <td>2</td>\n",
       "      <td>...</td>\n",
       "      <td>4</td>\n",
       "      <td>4</td>\n",
       "      <td>4</td>\n",
       "      <td>4</td>\n",
       "      <td>4</td>\n",
       "      <td>4</td>\n",
       "      <td>4</td>\n",
       "      <td>4</td>\n",
       "      <td>4</td>\n",
       "      <td>4</td>\n",
       "    </tr>\n",
       "    <tr>\n",
       "      <th>opened_atWeek</th>\n",
       "      <td>9</td>\n",
       "      <td>9</td>\n",
       "      <td>9</td>\n",
       "      <td>9</td>\n",
       "      <td>9</td>\n",
       "      <td>9</td>\n",
       "      <td>9</td>\n",
       "      <td>9</td>\n",
       "      <td>9</td>\n",
       "      <td>9</td>\n",
       "      <td>...</td>\n",
       "      <td>17</td>\n",
       "      <td>17</td>\n",
       "      <td>17</td>\n",
       "      <td>17</td>\n",
       "      <td>17</td>\n",
       "      <td>17</td>\n",
       "      <td>17</td>\n",
       "      <td>17</td>\n",
       "      <td>17</td>\n",
       "      <td>17</td>\n",
       "    </tr>\n",
       "    <tr>\n",
       "      <th>opened_atDay</th>\n",
       "      <td>29</td>\n",
       "      <td>29</td>\n",
       "      <td>29</td>\n",
       "      <td>29</td>\n",
       "      <td>29</td>\n",
       "      <td>29</td>\n",
       "      <td>29</td>\n",
       "      <td>29</td>\n",
       "      <td>29</td>\n",
       "      <td>29</td>\n",
       "      <td>...</td>\n",
       "      <td>29</td>\n",
       "      <td>29</td>\n",
       "      <td>29</td>\n",
       "      <td>29</td>\n",
       "      <td>29</td>\n",
       "      <td>29</td>\n",
       "      <td>29</td>\n",
       "      <td>29</td>\n",
       "      <td>29</td>\n",
       "      <td>29</td>\n",
       "    </tr>\n",
       "    <tr>\n",
       "      <th>opened_atDayofweek</th>\n",
       "      <td>0</td>\n",
       "      <td>0</td>\n",
       "      <td>0</td>\n",
       "      <td>0</td>\n",
       "      <td>0</td>\n",
       "      <td>0</td>\n",
       "      <td>0</td>\n",
       "      <td>0</td>\n",
       "      <td>0</td>\n",
       "      <td>0</td>\n",
       "      <td>...</td>\n",
       "      <td>4</td>\n",
       "      <td>4</td>\n",
       "      <td>4</td>\n",
       "      <td>4</td>\n",
       "      <td>4</td>\n",
       "      <td>4</td>\n",
       "      <td>4</td>\n",
       "      <td>4</td>\n",
       "      <td>4</td>\n",
       "      <td>4</td>\n",
       "    </tr>\n",
       "    <tr>\n",
       "      <th>opened_atDayofyear</th>\n",
       "      <td>60</td>\n",
       "      <td>60</td>\n",
       "      <td>60</td>\n",
       "      <td>60</td>\n",
       "      <td>60</td>\n",
       "      <td>60</td>\n",
       "      <td>60</td>\n",
       "      <td>60</td>\n",
       "      <td>60</td>\n",
       "      <td>60</td>\n",
       "      <td>...</td>\n",
       "      <td>120</td>\n",
       "      <td>120</td>\n",
       "      <td>120</td>\n",
       "      <td>120</td>\n",
       "      <td>120</td>\n",
       "      <td>120</td>\n",
       "      <td>120</td>\n",
       "      <td>120</td>\n",
       "      <td>120</td>\n",
       "      <td>120</td>\n",
       "    </tr>\n",
       "    <tr>\n",
       "      <th>opened_atIs_month_end</th>\n",
       "      <td>True</td>\n",
       "      <td>True</td>\n",
       "      <td>True</td>\n",
       "      <td>True</td>\n",
       "      <td>True</td>\n",
       "      <td>True</td>\n",
       "      <td>True</td>\n",
       "      <td>True</td>\n",
       "      <td>True</td>\n",
       "      <td>True</td>\n",
       "      <td>...</td>\n",
       "      <td>False</td>\n",
       "      <td>False</td>\n",
       "      <td>False</td>\n",
       "      <td>False</td>\n",
       "      <td>False</td>\n",
       "      <td>False</td>\n",
       "      <td>False</td>\n",
       "      <td>False</td>\n",
       "      <td>False</td>\n",
       "      <td>False</td>\n",
       "    </tr>\n",
       "    <tr>\n",
       "      <th>opened_atIs_month_start</th>\n",
       "      <td>False</td>\n",
       "      <td>False</td>\n",
       "      <td>False</td>\n",
       "      <td>False</td>\n",
       "      <td>False</td>\n",
       "      <td>False</td>\n",
       "      <td>False</td>\n",
       "      <td>False</td>\n",
       "      <td>False</td>\n",
       "      <td>False</td>\n",
       "      <td>...</td>\n",
       "      <td>False</td>\n",
       "      <td>False</td>\n",
       "      <td>False</td>\n",
       "      <td>False</td>\n",
       "      <td>False</td>\n",
       "      <td>False</td>\n",
       "      <td>False</td>\n",
       "      <td>False</td>\n",
       "      <td>False</td>\n",
       "      <td>False</td>\n",
       "    </tr>\n",
       "    <tr>\n",
       "      <th>opened_atIs_quarter_end</th>\n",
       "      <td>False</td>\n",
       "      <td>False</td>\n",
       "      <td>False</td>\n",
       "      <td>False</td>\n",
       "      <td>False</td>\n",
       "      <td>False</td>\n",
       "      <td>False</td>\n",
       "      <td>False</td>\n",
       "      <td>False</td>\n",
       "      <td>False</td>\n",
       "      <td>...</td>\n",
       "      <td>False</td>\n",
       "      <td>False</td>\n",
       "      <td>False</td>\n",
       "      <td>False</td>\n",
       "      <td>False</td>\n",
       "      <td>False</td>\n",
       "      <td>False</td>\n",
       "      <td>False</td>\n",
       "      <td>False</td>\n",
       "      <td>False</td>\n",
       "    </tr>\n",
       "    <tr>\n",
       "      <th>opened_atIs_quarter_start</th>\n",
       "      <td>False</td>\n",
       "      <td>False</td>\n",
       "      <td>False</td>\n",
       "      <td>False</td>\n",
       "      <td>False</td>\n",
       "      <td>False</td>\n",
       "      <td>False</td>\n",
       "      <td>False</td>\n",
       "      <td>False</td>\n",
       "      <td>False</td>\n",
       "      <td>...</td>\n",
       "      <td>False</td>\n",
       "      <td>False</td>\n",
       "      <td>False</td>\n",
       "      <td>False</td>\n",
       "      <td>False</td>\n",
       "      <td>False</td>\n",
       "      <td>False</td>\n",
       "      <td>False</td>\n",
       "      <td>False</td>\n",
       "      <td>False</td>\n",
       "    </tr>\n",
       "    <tr>\n",
       "      <th>opened_atIs_year_end</th>\n",
       "      <td>False</td>\n",
       "      <td>False</td>\n",
       "      <td>False</td>\n",
       "      <td>False</td>\n",
       "      <td>False</td>\n",
       "      <td>False</td>\n",
       "      <td>False</td>\n",
       "      <td>False</td>\n",
       "      <td>False</td>\n",
       "      <td>False</td>\n",
       "      <td>...</td>\n",
       "      <td>False</td>\n",
       "      <td>False</td>\n",
       "      <td>False</td>\n",
       "      <td>False</td>\n",
       "      <td>False</td>\n",
       "      <td>False</td>\n",
       "      <td>False</td>\n",
       "      <td>False</td>\n",
       "      <td>False</td>\n",
       "      <td>False</td>\n",
       "    </tr>\n",
       "    <tr>\n",
       "      <th>opened_atIs_year_start</th>\n",
       "      <td>False</td>\n",
       "      <td>False</td>\n",
       "      <td>False</td>\n",
       "      <td>False</td>\n",
       "      <td>False</td>\n",
       "      <td>False</td>\n",
       "      <td>False</td>\n",
       "      <td>False</td>\n",
       "      <td>False</td>\n",
       "      <td>False</td>\n",
       "      <td>...</td>\n",
       "      <td>False</td>\n",
       "      <td>False</td>\n",
       "      <td>False</td>\n",
       "      <td>False</td>\n",
       "      <td>False</td>\n",
       "      <td>False</td>\n",
       "      <td>False</td>\n",
       "      <td>False</td>\n",
       "      <td>False</td>\n",
       "      <td>False</td>\n",
       "    </tr>\n",
       "    <tr>\n",
       "      <th>opened_atElapsed</th>\n",
       "      <td>1456708560</td>\n",
       "      <td>1456720800</td>\n",
       "      <td>1456726200</td>\n",
       "      <td>1456727880</td>\n",
       "      <td>1456729080</td>\n",
       "      <td>1456729680</td>\n",
       "      <td>1456729800</td>\n",
       "      <td>1456731480</td>\n",
       "      <td>1456732980</td>\n",
       "      <td>1456732980</td>\n",
       "      <td>...</td>\n",
       "      <td>1461943440</td>\n",
       "      <td>1461943500</td>\n",
       "      <td>1461943620</td>\n",
       "      <td>1461943620</td>\n",
       "      <td>1461943740</td>\n",
       "      <td>1461943740</td>\n",
       "      <td>1461943800</td>\n",
       "      <td>1461944040</td>\n",
       "      <td>1461944160</td>\n",
       "      <td>1461944460</td>\n",
       "    </tr>\n",
       "  </tbody>\n",
       "</table>\n",
       "<p>26 rows × 16995 columns</p>\n",
       "</div>"
      ],
      "text/plain": [
       "                                0           1           2           3      \\\n",
       "update_count                        0           0           0           0   \n",
       "made_sla                         True        True        True        True   \n",
       "opened_by                         148          92         148          25   \n",
       "contact_type                        2           2           2           2   \n",
       "location                           36          50          87          87   \n",
       "category                           36          24           5          44   \n",
       "subcategory                        60          98          25         213   \n",
       "impact                              2           2           2           2   \n",
       "urgency                             2           2           2           2   \n",
       "priority                            2           2           2           2   \n",
       "assigned_to                         0         175           0          18   \n",
       "knowledge                        True        True        True        True   \n",
       "notify                              1           1           1           1   \n",
       "opened_atYear                    2016        2016        2016        2016   \n",
       "opened_atMonth                      2           2           2           2   \n",
       "opened_atWeek                       9           9           9           9   \n",
       "opened_atDay                       29          29          29          29   \n",
       "opened_atDayofweek                  0           0           0           0   \n",
       "opened_atDayofyear                 60          60          60          60   \n",
       "opened_atIs_month_end            True        True        True        True   \n",
       "opened_atIs_month_start         False       False       False       False   \n",
       "opened_atIs_quarter_end         False       False       False       False   \n",
       "opened_atIs_quarter_start       False       False       False       False   \n",
       "opened_atIs_year_end            False       False       False       False   \n",
       "opened_atIs_year_start          False       False       False       False   \n",
       "opened_atElapsed           1456708560  1456720800  1456726200  1456727880   \n",
       "\n",
       "                                4           5           6           7      \\\n",
       "update_count                        0           0           0           0   \n",
       "made_sla                         True        True        True        True   \n",
       "opened_by                          25          25          13          13   \n",
       "contact_type                        2           2           2           2   \n",
       "location                          189         189          36           5   \n",
       "category                           34           5          34          28   \n",
       "subcategory                        57          25          57         108   \n",
       "impact                              2           2           2           2   \n",
       "urgency                             2           2           2           2   \n",
       "priority                            2           2           2           2   \n",
       "assigned_to                         0           0         169          97   \n",
       "knowledge                        True        True        True        True   \n",
       "notify                              1           1           1           1   \n",
       "opened_atYear                    2016        2016        2016        2016   \n",
       "opened_atMonth                      2           2           2           2   \n",
       "opened_atWeek                       9           9           9           9   \n",
       "opened_atDay                       29          29          29          29   \n",
       "opened_atDayofweek                  0           0           0           0   \n",
       "opened_atDayofyear                 60          60          60          60   \n",
       "opened_atIs_month_end            True        True        True        True   \n",
       "opened_atIs_month_start         False       False       False       False   \n",
       "opened_atIs_quarter_end         False       False       False       False   \n",
       "opened_atIs_quarter_start       False       False       False       False   \n",
       "opened_atIs_year_end            False       False       False       False   \n",
       "opened_atIs_year_start          False       False       False       False   \n",
       "opened_atElapsed           1456729080  1456729680  1456729800  1456731480   \n",
       "\n",
       "                                8           9      ...       16990  \\\n",
       "update_count                        0           0  ...           0   \n",
       "made_sla                         True        True  ...        True   \n",
       "opened_by                          45          25  ...         141   \n",
       "contact_type                        2           2  ...           2   \n",
       "location                           48          36  ...          87   \n",
       "category                           36          44  ...          26   \n",
       "subcategory                        75          11  ...         103   \n",
       "impact                              2           2  ...           2   \n",
       "urgency                             2           2  ...           2   \n",
       "priority                            2           2  ...           2   \n",
       "assigned_to                         0         116  ...         134   \n",
       "knowledge                        True        True  ...       False   \n",
       "notify                              1           1  ...           1   \n",
       "opened_atYear                    2016        2016  ...        2016   \n",
       "opened_atMonth                      2           2  ...           4   \n",
       "opened_atWeek                       9           9  ...          17   \n",
       "opened_atDay                       29          29  ...          29   \n",
       "opened_atDayofweek                  0           0  ...           4   \n",
       "opened_atDayofyear                 60          60  ...         120   \n",
       "opened_atIs_month_end            True        True  ...       False   \n",
       "opened_atIs_month_start         False       False  ...       False   \n",
       "opened_atIs_quarter_end         False       False  ...       False   \n",
       "opened_atIs_quarter_start       False       False  ...       False   \n",
       "opened_atIs_year_end            False       False  ...       False   \n",
       "opened_atIs_year_start          False       False  ...       False   \n",
       "opened_atElapsed           1456732980  1456732980  ...  1461943440   \n",
       "\n",
       "                                16991       16992       16993       16994  \\\n",
       "update_count                        0           0           0           0   \n",
       "made_sla                         True        True        True        True   \n",
       "opened_by                          64          22          45          11   \n",
       "contact_type                        2           2           2           2   \n",
       "location                            5          87          36         189   \n",
       "category                            7          10          10           7   \n",
       "subcategory                        64          65          65         159   \n",
       "impact                              2           2           2           2   \n",
       "urgency                             2           2           2           2   \n",
       "priority                            2           2           2           2   \n",
       "assigned_to                         0           0          60         162   \n",
       "knowledge                       False       False       False       False   \n",
       "notify                              1           1           1           1   \n",
       "opened_atYear                    2016        2016        2016        2016   \n",
       "opened_atMonth                      4           4           4           4   \n",
       "opened_atWeek                      17          17          17          17   \n",
       "opened_atDay                       29          29          29          29   \n",
       "opened_atDayofweek                  4           4           4           4   \n",
       "opened_atDayofyear                120         120         120         120   \n",
       "opened_atIs_month_end           False       False       False       False   \n",
       "opened_atIs_month_start         False       False       False       False   \n",
       "opened_atIs_quarter_end         False       False       False       False   \n",
       "opened_atIs_quarter_start       False       False       False       False   \n",
       "opened_atIs_year_end            False       False       False       False   \n",
       "opened_atIs_year_start          False       False       False       False   \n",
       "opened_atElapsed           1461943500  1461943620  1461943620  1461943740   \n",
       "\n",
       "                                16995       16996       16997       16998  \\\n",
       "update_count                        0           0           0           0   \n",
       "made_sla                         True        True        True        True   \n",
       "opened_by                         137           4          40          45   \n",
       "contact_type                        2           2           2           2   \n",
       "location                           36         182          48          36   \n",
       "category                           17           7          21          10   \n",
       "subcategory                        64          64          32          65   \n",
       "impact                              2           2           2           2   \n",
       "urgency                             2           2           2           2   \n",
       "priority                            2           2           2           2   \n",
       "assigned_to                       130           0          14          60   \n",
       "knowledge                       False       False       False       False   \n",
       "notify                              1           1           1           1   \n",
       "opened_atYear                    2016        2016        2016        2016   \n",
       "opened_atMonth                      4           4           4           4   \n",
       "opened_atWeek                      17          17          17          17   \n",
       "opened_atDay                       29          29          29          29   \n",
       "opened_atDayofweek                  4           4           4           4   \n",
       "opened_atDayofyear                120         120         120         120   \n",
       "opened_atIs_month_end           False       False       False       False   \n",
       "opened_atIs_month_start         False       False       False       False   \n",
       "opened_atIs_quarter_end         False       False       False       False   \n",
       "opened_atIs_quarter_start       False       False       False       False   \n",
       "opened_atIs_year_end            False       False       False       False   \n",
       "opened_atIs_year_start          False       False       False       False   \n",
       "opened_atElapsed           1461943740  1461943800  1461944040  1461944160   \n",
       "\n",
       "                                16999  \n",
       "update_count                        0  \n",
       "made_sla                         True  \n",
       "opened_by                         141  \n",
       "contact_type                        2  \n",
       "location                           87  \n",
       "category                           10  \n",
       "subcategory                        65  \n",
       "impact                              2  \n",
       "urgency                             2  \n",
       "priority                            2  \n",
       "assigned_to                         0  \n",
       "knowledge                       False  \n",
       "notify                              1  \n",
       "opened_atYear                    2016  \n",
       "opened_atMonth                      4  \n",
       "opened_atWeek                      17  \n",
       "opened_atDay                       29  \n",
       "opened_atDayofweek                  4  \n",
       "opened_atDayofyear                120  \n",
       "opened_atIs_month_end           False  \n",
       "opened_atIs_month_start         False  \n",
       "opened_atIs_quarter_end         False  \n",
       "opened_atIs_quarter_start       False  \n",
       "opened_atIs_year_end            False  \n",
       "opened_atIs_year_start          False  \n",
       "opened_atElapsed           1461944460  \n",
       "\n",
       "[26 rows x 16995 columns]"
      ]
     },
     "execution_count": 43,
     "metadata": {},
     "output_type": "execute_result"
    }
   ],
   "source": [
    "X_train.T"
   ]
  },
  {
   "cell_type": "code",
   "execution_count": 44,
   "metadata": {},
   "outputs": [
    {
     "ename": "ValueError",
     "evalue": "Error when checking input: expected dense_1_input to have shape (17,) but got array with shape (26,)",
     "output_type": "error",
     "traceback": [
      "\u001b[0;31m---------------------------------------------------------------------------\u001b[0m",
      "\u001b[0;31mValueError\u001b[0m                                Traceback (most recent call last)",
      "\u001b[0;32m<ipython-input-44-1f43ad93c469>\u001b[0m in \u001b[0;36m<module>\u001b[0;34m\u001b[0m\n\u001b[0;32m----> 1\u001b[0;31m \u001b[0mt\u001b[0m\u001b[0;34m.\u001b[0m\u001b[0mfit\u001b[0m\u001b[0;34m(\u001b[0m\u001b[0mX_train\u001b[0m\u001b[0;34m,\u001b[0m \u001b[0my_train\u001b[0m\u001b[0;34m,\u001b[0m \u001b[0mbatch_size\u001b[0m \u001b[0;34m=\u001b[0m \u001b[0;36m32\u001b[0m\u001b[0;34m,\u001b[0m \u001b[0mepochs\u001b[0m \u001b[0;34m=\u001b[0m \u001b[0;36m200\u001b[0m\u001b[0;34m)\u001b[0m\u001b[0;34m\u001b[0m\u001b[0;34m\u001b[0m\u001b[0m\n\u001b[0m",
      "\u001b[0;32m~/anaconda3/envs/ml/lib/python3.6/site-packages/keras/engine/training.py\u001b[0m in \u001b[0;36mfit\u001b[0;34m(self, x, y, batch_size, epochs, verbose, callbacks, validation_split, validation_data, shuffle, class_weight, sample_weight, initial_epoch, steps_per_epoch, validation_steps, **kwargs)\u001b[0m\n\u001b[1;32m    950\u001b[0m             \u001b[0msample_weight\u001b[0m\u001b[0;34m=\u001b[0m\u001b[0msample_weight\u001b[0m\u001b[0;34m,\u001b[0m\u001b[0;34m\u001b[0m\u001b[0;34m\u001b[0m\u001b[0m\n\u001b[1;32m    951\u001b[0m             \u001b[0mclass_weight\u001b[0m\u001b[0;34m=\u001b[0m\u001b[0mclass_weight\u001b[0m\u001b[0;34m,\u001b[0m\u001b[0;34m\u001b[0m\u001b[0;34m\u001b[0m\u001b[0m\n\u001b[0;32m--> 952\u001b[0;31m             batch_size=batch_size)\n\u001b[0m\u001b[1;32m    953\u001b[0m         \u001b[0;31m# Prepare validation data.\u001b[0m\u001b[0;34m\u001b[0m\u001b[0;34m\u001b[0m\u001b[0;34m\u001b[0m\u001b[0m\n\u001b[1;32m    954\u001b[0m         \u001b[0mdo_validation\u001b[0m \u001b[0;34m=\u001b[0m \u001b[0;32mFalse\u001b[0m\u001b[0;34m\u001b[0m\u001b[0;34m\u001b[0m\u001b[0m\n",
      "\u001b[0;32m~/anaconda3/envs/ml/lib/python3.6/site-packages/keras/engine/training.py\u001b[0m in \u001b[0;36m_standardize_user_data\u001b[0;34m(self, x, y, sample_weight, class_weight, check_array_lengths, batch_size)\u001b[0m\n\u001b[1;32m    749\u001b[0m             \u001b[0mfeed_input_shapes\u001b[0m\u001b[0;34m,\u001b[0m\u001b[0;34m\u001b[0m\u001b[0;34m\u001b[0m\u001b[0m\n\u001b[1;32m    750\u001b[0m             \u001b[0mcheck_batch_axis\u001b[0m\u001b[0;34m=\u001b[0m\u001b[0;32mFalse\u001b[0m\u001b[0;34m,\u001b[0m  \u001b[0;31m# Don't enforce the batch size.\u001b[0m\u001b[0;34m\u001b[0m\u001b[0;34m\u001b[0m\u001b[0m\n\u001b[0;32m--> 751\u001b[0;31m             exception_prefix='input')\n\u001b[0m\u001b[1;32m    752\u001b[0m \u001b[0;34m\u001b[0m\u001b[0m\n\u001b[1;32m    753\u001b[0m         \u001b[0;32mif\u001b[0m \u001b[0my\u001b[0m \u001b[0;32mis\u001b[0m \u001b[0;32mnot\u001b[0m \u001b[0;32mNone\u001b[0m\u001b[0;34m:\u001b[0m\u001b[0;34m\u001b[0m\u001b[0;34m\u001b[0m\u001b[0m\n",
      "\u001b[0;32m~/anaconda3/envs/ml/lib/python3.6/site-packages/keras/engine/training_utils.py\u001b[0m in \u001b[0;36mstandardize_input_data\u001b[0;34m(data, names, shapes, check_batch_axis, exception_prefix)\u001b[0m\n\u001b[1;32m    136\u001b[0m                             \u001b[0;34m': expected '\u001b[0m \u001b[0;34m+\u001b[0m \u001b[0mnames\u001b[0m\u001b[0;34m[\u001b[0m\u001b[0mi\u001b[0m\u001b[0;34m]\u001b[0m \u001b[0;34m+\u001b[0m \u001b[0;34m' to have shape '\u001b[0m \u001b[0;34m+\u001b[0m\u001b[0;34m\u001b[0m\u001b[0;34m\u001b[0m\u001b[0m\n\u001b[1;32m    137\u001b[0m                             \u001b[0mstr\u001b[0m\u001b[0;34m(\u001b[0m\u001b[0mshape\u001b[0m\u001b[0;34m)\u001b[0m \u001b[0;34m+\u001b[0m \u001b[0;34m' but got array with shape '\u001b[0m \u001b[0;34m+\u001b[0m\u001b[0;34m\u001b[0m\u001b[0;34m\u001b[0m\u001b[0m\n\u001b[0;32m--> 138\u001b[0;31m                             str(data_shape))\n\u001b[0m\u001b[1;32m    139\u001b[0m     \u001b[0;32mreturn\u001b[0m \u001b[0mdata\u001b[0m\u001b[0;34m\u001b[0m\u001b[0;34m\u001b[0m\u001b[0m\n\u001b[1;32m    140\u001b[0m \u001b[0;34m\u001b[0m\u001b[0m\n",
      "\u001b[0;31mValueError\u001b[0m: Error when checking input: expected dense_1_input to have shape (17,) but got array with shape (26,)"
     ]
    }
   ],
   "source": [
    "t.fit(X_train, y_train, batch_size = 32, epochs = 200)"
   ]
  },
  {
   "cell_type": "code",
   "execution_count": null,
   "metadata": {},
   "outputs": [],
   "source": []
  },
  {
   "cell_type": "code",
   "execution_count": null,
   "metadata": {},
   "outputs": [],
   "source": []
  },
  {
   "cell_type": "markdown",
   "metadata": {
    "colab_type": "text",
    "id": "1X1XEIUTEW65"
   },
   "source": [
    "# TEST "
   ]
  },
  {
   "cell_type": "code",
   "execution_count": null,
   "metadata": {
    "colab": {},
    "colab_type": "code",
    "id": "hahnVllUlshH"
   },
   "outputs": [],
   "source": [
    "Id = test_raw['Id']"
   ]
  },
  {
   "cell_type": "code",
   "execution_count": null,
   "metadata": {
    "colab": {},
    "colab_type": "code",
    "id": "UsjbE2E_EW66"
   },
   "outputs": [],
   "source": [
    "test_raw = preprocessing(test_raw)"
   ]
  },
  {
   "cell_type": "code",
   "execution_count": null,
   "metadata": {
    "colab": {},
    "colab_type": "code",
    "id": "bDi142NiEW6-"
   },
   "outputs": [],
   "source": [
    "apply_cats(test_raw,train_raw)"
   ]
  },
  {
   "cell_type": "code",
   "execution_count": null,
   "metadata": {
    "colab": {},
    "colab_type": "code",
    "id": "ZyTRMtG3EW6_"
   },
   "outputs": [],
   "source": [
    "test,_,_=proc_df(test_raw)"
   ]
  },
  {
   "cell_type": "code",
   "execution_count": null,
   "metadata": {
    "colab": {
     "base_uri": "https://localhost:8080/",
     "height": 34
    },
    "colab_type": "code",
    "id": "jesTGYHiEW7B",
    "outputId": "c4fe84ac-4c10-47dc-8c25-32d222aa8389"
   },
   "outputs": [],
   "source": [
    "test.shape , train.shape"
   ]
  },
  {
   "cell_type": "code",
   "execution_count": null,
   "metadata": {
    "colab": {},
    "colab_type": "code",
    "id": "T7WUS36Nlmb_"
   },
   "outputs": [],
   "source": [
    "y_test = model.predict(test)"
   ]
  },
  {
   "cell_type": "code",
   "execution_count": null,
   "metadata": {
    "colab": {},
    "colab_type": "code",
    "id": "hqn0lAIyl66o"
   },
   "outputs": [],
   "source": [
    "dict = {\n",
    "    'Id':Id,\n",
    "    'target_days':y_test\n",
    "}"
   ]
  },
  {
   "cell_type": "code",
   "execution_count": null,
   "metadata": {
    "colab": {},
    "colab_type": "code",
    "id": "jD_ID66OmByv"
   },
   "outputs": [],
   "source": [
    "submit = pd.DataFrame(dict)"
   ]
  },
  {
   "cell_type": "code",
   "execution_count": null,
   "metadata": {
    "colab": {},
    "colab_type": "code",
    "id": "v1LxP8flmHLw"
   },
   "outputs": [],
   "source": [
    "submit.to_csv('submit2.csv',header=True,index=False)"
   ]
  },
  {
   "cell_type": "code",
   "execution_count": null,
   "metadata": {
    "colab": {},
    "colab_type": "code",
    "id": "joWn-3YAmVtW"
   },
   "outputs": [],
   "source": [
    "#files.download('submit2.csv')"
   ]
  },
  {
   "cell_type": "code",
   "execution_count": null,
   "metadata": {
    "colab": {},
    "colab_type": "code",
    "id": "O2ClmxglmZy5"
   },
   "outputs": [],
   "source": []
  }
 ],
 "metadata": {
  "colab": {
   "collapsed_sections": [],
   "name": "dataquest.ipynb",
   "provenance": [],
   "version": "0.3.2"
  },
  "kernelspec": {
   "display_name": "Python 3",
   "language": "python",
   "name": "python3"
  },
  "language_info": {
   "codemirror_mode": {
    "name": "ipython",
    "version": 3
   },
   "file_extension": ".py",
   "mimetype": "text/x-python",
   "name": "python",
   "nbconvert_exporter": "python",
   "pygments_lexer": "ipython3",
   "version": "3.6.8"
  }
 },
 "nbformat": 4,
 "nbformat_minor": 1
}
